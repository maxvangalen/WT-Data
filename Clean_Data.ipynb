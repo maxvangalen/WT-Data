{
 "cells": [
  {
   "cell_type": "code",
   "execution_count": 1,
   "id": "78bbb0b2-f3c7-458e-945e-163702adff4a",
   "metadata": {},
   "outputs": [],
   "source": [
    "import numpy as np\n",
    "import pandas as pd\n",
    "import matplotlib.pyplot as plt\n",
    "import seaborn as sns\n",
    "import datetime"
   ]
  },
  {
   "cell_type": "code",
   "execution_count": 2,
   "id": "06b50e08-d137-4cc0-8ae0-6be62b616a25",
   "metadata": {},
   "outputs": [],
   "source": [
    "# Set to False to \n",
    "plots = False"
   ]
  },
  {
   "cell_type": "code",
   "execution_count": 3,
   "id": "46ffc9dc-3906-47da-b623-ae99ddbf3ee5",
   "metadata": {},
   "outputs": [],
   "source": [
    "df = pd.read_csv('US_Accidents_June20.csv')"
   ]
  },
  {
   "cell_type": "code",
   "execution_count": 4,
   "id": "d27db8a4-4c54-49b9-a5b6-dea8169d2dc8",
   "metadata": {},
   "outputs": [
    {
     "data": {
      "text/html": [
       "<div>\n",
       "<style scoped>\n",
       "    .dataframe tbody tr th:only-of-type {\n",
       "        vertical-align: middle;\n",
       "    }\n",
       "\n",
       "    .dataframe tbody tr th {\n",
       "        vertical-align: top;\n",
       "    }\n",
       "\n",
       "    .dataframe thead th {\n",
       "        text-align: right;\n",
       "    }\n",
       "</style>\n",
       "<table border=\"1\" class=\"dataframe\">\n",
       "  <thead>\n",
       "    <tr style=\"text-align: right;\">\n",
       "      <th></th>\n",
       "      <th>ID</th>\n",
       "      <th>Source</th>\n",
       "      <th>TMC</th>\n",
       "      <th>Severity</th>\n",
       "      <th>Start_Time</th>\n",
       "      <th>End_Time</th>\n",
       "      <th>Start_Lat</th>\n",
       "      <th>Start_Lng</th>\n",
       "      <th>End_Lat</th>\n",
       "      <th>End_Lng</th>\n",
       "      <th>...</th>\n",
       "      <th>Roundabout</th>\n",
       "      <th>Station</th>\n",
       "      <th>Stop</th>\n",
       "      <th>Traffic_Calming</th>\n",
       "      <th>Traffic_Signal</th>\n",
       "      <th>Turning_Loop</th>\n",
       "      <th>Sunrise_Sunset</th>\n",
       "      <th>Civil_Twilight</th>\n",
       "      <th>Nautical_Twilight</th>\n",
       "      <th>Astronomical_Twilight</th>\n",
       "    </tr>\n",
       "  </thead>\n",
       "  <tbody>\n",
       "    <tr>\n",
       "      <th>0</th>\n",
       "      <td>A-1</td>\n",
       "      <td>MapQuest</td>\n",
       "      <td>201.0</td>\n",
       "      <td>3</td>\n",
       "      <td>2016-02-08 05:46:00</td>\n",
       "      <td>2016-02-08 11:00:00</td>\n",
       "      <td>39.865147</td>\n",
       "      <td>-84.058723</td>\n",
       "      <td>NaN</td>\n",
       "      <td>NaN</td>\n",
       "      <td>...</td>\n",
       "      <td>False</td>\n",
       "      <td>False</td>\n",
       "      <td>False</td>\n",
       "      <td>False</td>\n",
       "      <td>False</td>\n",
       "      <td>False</td>\n",
       "      <td>Night</td>\n",
       "      <td>Night</td>\n",
       "      <td>Night</td>\n",
       "      <td>Night</td>\n",
       "    </tr>\n",
       "    <tr>\n",
       "      <th>1</th>\n",
       "      <td>A-2</td>\n",
       "      <td>MapQuest</td>\n",
       "      <td>201.0</td>\n",
       "      <td>2</td>\n",
       "      <td>2016-02-08 06:07:59</td>\n",
       "      <td>2016-02-08 06:37:59</td>\n",
       "      <td>39.928059</td>\n",
       "      <td>-82.831184</td>\n",
       "      <td>NaN</td>\n",
       "      <td>NaN</td>\n",
       "      <td>...</td>\n",
       "      <td>False</td>\n",
       "      <td>False</td>\n",
       "      <td>False</td>\n",
       "      <td>False</td>\n",
       "      <td>False</td>\n",
       "      <td>False</td>\n",
       "      <td>Night</td>\n",
       "      <td>Night</td>\n",
       "      <td>Night</td>\n",
       "      <td>Day</td>\n",
       "    </tr>\n",
       "    <tr>\n",
       "      <th>2</th>\n",
       "      <td>A-3</td>\n",
       "      <td>MapQuest</td>\n",
       "      <td>201.0</td>\n",
       "      <td>2</td>\n",
       "      <td>2016-02-08 06:49:27</td>\n",
       "      <td>2016-02-08 07:19:27</td>\n",
       "      <td>39.063148</td>\n",
       "      <td>-84.032608</td>\n",
       "      <td>NaN</td>\n",
       "      <td>NaN</td>\n",
       "      <td>...</td>\n",
       "      <td>False</td>\n",
       "      <td>False</td>\n",
       "      <td>False</td>\n",
       "      <td>False</td>\n",
       "      <td>True</td>\n",
       "      <td>False</td>\n",
       "      <td>Night</td>\n",
       "      <td>Night</td>\n",
       "      <td>Day</td>\n",
       "      <td>Day</td>\n",
       "    </tr>\n",
       "    <tr>\n",
       "      <th>3</th>\n",
       "      <td>A-4</td>\n",
       "      <td>MapQuest</td>\n",
       "      <td>201.0</td>\n",
       "      <td>3</td>\n",
       "      <td>2016-02-08 07:23:34</td>\n",
       "      <td>2016-02-08 07:53:34</td>\n",
       "      <td>39.747753</td>\n",
       "      <td>-84.205582</td>\n",
       "      <td>NaN</td>\n",
       "      <td>NaN</td>\n",
       "      <td>...</td>\n",
       "      <td>False</td>\n",
       "      <td>False</td>\n",
       "      <td>False</td>\n",
       "      <td>False</td>\n",
       "      <td>False</td>\n",
       "      <td>False</td>\n",
       "      <td>Night</td>\n",
       "      <td>Day</td>\n",
       "      <td>Day</td>\n",
       "      <td>Day</td>\n",
       "    </tr>\n",
       "    <tr>\n",
       "      <th>4</th>\n",
       "      <td>A-5</td>\n",
       "      <td>MapQuest</td>\n",
       "      <td>201.0</td>\n",
       "      <td>2</td>\n",
       "      <td>2016-02-08 07:39:07</td>\n",
       "      <td>2016-02-08 08:09:07</td>\n",
       "      <td>39.627781</td>\n",
       "      <td>-84.188354</td>\n",
       "      <td>NaN</td>\n",
       "      <td>NaN</td>\n",
       "      <td>...</td>\n",
       "      <td>False</td>\n",
       "      <td>False</td>\n",
       "      <td>False</td>\n",
       "      <td>False</td>\n",
       "      <td>True</td>\n",
       "      <td>False</td>\n",
       "      <td>Day</td>\n",
       "      <td>Day</td>\n",
       "      <td>Day</td>\n",
       "      <td>Day</td>\n",
       "    </tr>\n",
       "  </tbody>\n",
       "</table>\n",
       "<p>5 rows × 49 columns</p>\n",
       "</div>"
      ],
      "text/plain": [
       "    ID    Source    TMC  Severity           Start_Time             End_Time  \\\n",
       "0  A-1  MapQuest  201.0         3  2016-02-08 05:46:00  2016-02-08 11:00:00   \n",
       "1  A-2  MapQuest  201.0         2  2016-02-08 06:07:59  2016-02-08 06:37:59   \n",
       "2  A-3  MapQuest  201.0         2  2016-02-08 06:49:27  2016-02-08 07:19:27   \n",
       "3  A-4  MapQuest  201.0         3  2016-02-08 07:23:34  2016-02-08 07:53:34   \n",
       "4  A-5  MapQuest  201.0         2  2016-02-08 07:39:07  2016-02-08 08:09:07   \n",
       "\n",
       "   Start_Lat  Start_Lng  End_Lat  End_Lng  ...  Roundabout Station   Stop  \\\n",
       "0  39.865147 -84.058723      NaN      NaN  ...       False   False  False   \n",
       "1  39.928059 -82.831184      NaN      NaN  ...       False   False  False   \n",
       "2  39.063148 -84.032608      NaN      NaN  ...       False   False  False   \n",
       "3  39.747753 -84.205582      NaN      NaN  ...       False   False  False   \n",
       "4  39.627781 -84.188354      NaN      NaN  ...       False   False  False   \n",
       "\n",
       "  Traffic_Calming Traffic_Signal Turning_Loop Sunrise_Sunset Civil_Twilight  \\\n",
       "0           False          False        False          Night          Night   \n",
       "1           False          False        False          Night          Night   \n",
       "2           False           True        False          Night          Night   \n",
       "3           False          False        False          Night            Day   \n",
       "4           False           True        False            Day            Day   \n",
       "\n",
       "  Nautical_Twilight Astronomical_Twilight  \n",
       "0             Night                 Night  \n",
       "1             Night                   Day  \n",
       "2               Day                   Day  \n",
       "3               Day                   Day  \n",
       "4               Day                   Day  \n",
       "\n",
       "[5 rows x 49 columns]"
      ]
     },
     "execution_count": 4,
     "metadata": {},
     "output_type": "execute_result"
    }
   ],
   "source": [
    "df.head()"
   ]
  },
  {
   "cell_type": "markdown",
   "id": "5d7b8f5c-7dd5-4bab-be29-a0747d29e1c6",
   "metadata": {},
   "source": [
    "# Data Cleaning"
   ]
  },
  {
   "cell_type": "markdown",
   "id": "85dc3439-f699-47d4-a782-2eda993920e7",
   "metadata": {},
   "source": [
    "# Renaming Columns"
   ]
  },
  {
   "cell_type": "code",
   "execution_count": 5,
   "id": "e3d3ecd1-2ebe-42cd-91b9-4f553cd80344",
   "metadata": {},
   "outputs": [],
   "source": [
    "df.rename(columns={\n",
    "    'Precipitation(in)': 'Precipitation_in', \n",
    "    'Wind_Chill(F)': 'Wind_Chill_F', \n",
    "    'Wind_Speed(mph)': 'Wind_Speed_mph', \n",
    "    'Visibility(mi)': 'Visibility_mi', \n",
    "    'Humidity(%)': 'Humidity_%', \n",
    "    'Temperature(F)': 'Temperature_F', \n",
    "    'Pressure(in)': 'Pressure_in', \n",
    "    'Distance(mi)': 'Distance_mi'\n",
    "}, inplace=True)"
   ]
  },
  {
   "cell_type": "markdown",
   "id": "98a98c5e-d0c1-4d21-91bf-21a8c9906ac9",
   "metadata": {},
   "source": [
    "## Type changes"
   ]
  },
  {
   "cell_type": "code",
   "execution_count": 6,
   "id": "0cb57d69-1755-4b7f-af2a-347cdf01b803",
   "metadata": {},
   "outputs": [
    {
     "data": {
      "text/plain": [
       "ID                        object\n",
       "Source                    object\n",
       "TMC                      float64\n",
       "Severity                   int64\n",
       "Start_Time                object\n",
       "End_Time                  object\n",
       "Start_Lat                float64\n",
       "Start_Lng                float64\n",
       "End_Lat                  float64\n",
       "End_Lng                  float64\n",
       "Distance_mi              float64\n",
       "Description               object\n",
       "Number                   float64\n",
       "Street                    object\n",
       "Side                      object\n",
       "City                      object\n",
       "County                    object\n",
       "State                     object\n",
       "Zipcode                   object\n",
       "Country                   object\n",
       "Timezone                  object\n",
       "Airport_Code              object\n",
       "Weather_Timestamp         object\n",
       "Temperature_F            float64\n",
       "Wind_Chill_F             float64\n",
       "Humidity_%               float64\n",
       "Pressure_in              float64\n",
       "Visibility_mi            float64\n",
       "Wind_Direction            object\n",
       "Wind_Speed_mph           float64\n",
       "Precipitation_in         float64\n",
       "Weather_Condition         object\n",
       "Amenity                     bool\n",
       "Bump                        bool\n",
       "Crossing                    bool\n",
       "Give_Way                    bool\n",
       "Junction                    bool\n",
       "No_Exit                     bool\n",
       "Railway                     bool\n",
       "Roundabout                  bool\n",
       "Station                     bool\n",
       "Stop                        bool\n",
       "Traffic_Calming             bool\n",
       "Traffic_Signal              bool\n",
       "Turning_Loop                bool\n",
       "Sunrise_Sunset            object\n",
       "Civil_Twilight            object\n",
       "Nautical_Twilight         object\n",
       "Astronomical_Twilight     object\n",
       "dtype: object"
      ]
     },
     "execution_count": 6,
     "metadata": {},
     "output_type": "execute_result"
    }
   ],
   "source": [
    "df.dtypes"
   ]
  },
  {
   "cell_type": "code",
   "execution_count": 7,
   "id": "409c5441-f311-42ef-8744-2851021421f4",
   "metadata": {},
   "outputs": [
    {
     "data": {
      "text/plain": [
       "array(['2016-02-08 05:58:00', '2016-02-08 05:51:00',\n",
       "       '2016-02-08 06:56:00', ..., '2019-08-23 12:35:00',\n",
       "       '2019-08-23 15:18:00', '2019-08-23 01:20:00'], dtype=object)"
      ]
     },
     "execution_count": 7,
     "metadata": {},
     "output_type": "execute_result"
    }
   ],
   "source": [
    "df['Weather_Timestamp'].unique()"
   ]
  },
  {
   "cell_type": "code",
   "execution_count": 8,
   "id": "ad54b511-49b7-463f-bd73-dcce4a90db1d",
   "metadata": {},
   "outputs": [],
   "source": [
    "def clean_times(val):\n",
    "    if type(val) == pd._libs.tslibs.timestamps.Timestamp or val != val:\n",
    "        return val\n",
    "    return datetime.datetime.strptime(val, '%Y-%m-%d %H:%M:%S')\n",
    "df['Start_Time'] = df['Start_Time'].map(clean_times)\n",
    "df['End_Time'] = df['End_Time'].map(clean_times)\n",
    "df['Weather_Timestamp'] = df['Weather_Timestamp'].map(clean_times)"
   ]
  },
  {
   "cell_type": "code",
   "execution_count": 9,
   "id": "3bfe123b-855f-4e57-9eb9-b5f97326000f",
   "metadata": {},
   "outputs": [
    {
     "data": {
      "text/plain": [
       "array(['Night', 'Day', nan], dtype=object)"
      ]
     },
     "execution_count": 9,
     "metadata": {},
     "output_type": "execute_result"
    }
   ],
   "source": [
    "df['Sunrise_Sunset'].unique()"
   ]
  },
  {
   "cell_type": "code",
   "execution_count": 10,
   "id": "1f391ef2-147d-49a7-a080-5f51c7a03cf4",
   "metadata": {},
   "outputs": [],
   "source": [
    "for colname in ['Sunrise_Sunset', 'Nautical_Twilight', 'Civil_Twilight', 'Astronomical_Twilight']:\n",
    "    df[colname] = df[colname].map({'Night':1, 'Day':0})"
   ]
  },
  {
   "cell_type": "markdown",
   "id": "53abeb30-21a3-4d42-9a12-9e79e68defb2",
   "metadata": {},
   "source": [
    "## Replacing NaN Precipitation Values"
   ]
  },
  {
   "cell_type": "code",
   "execution_count": 11,
   "id": "34411b62-0826-4417-a1ee-cada7f960de5",
   "metadata": {},
   "outputs": [],
   "source": [
    "order = ['Rain', 'Light Rain', 'Light Drizzle', 'Heavy Rain']\n",
    "rep_dict = {\n",
    "    \"Light Rain\":0.1,\n",
    "    \"Light Drizzle\":0.1,\n",
    "    \"Rain\":0.2,\n",
    "    \"Heavy Rain\":1.2,\n",
    "}"
   ]
  },
  {
   "cell_type": "code",
   "execution_count": 12,
   "id": "a369c070-19cd-4a21-bf42-bbd5f7ca9fcc",
   "metadata": {},
   "outputs": [
    {
     "name": "stdout",
     "output_type": "stream",
     "text": [
      "2025874\n"
     ]
    },
    {
     "data": {
      "text/plain": [
       "2002291"
      ]
     },
     "execution_count": 12,
     "metadata": {},
     "output_type": "execute_result"
    }
   ],
   "source": [
    "print(df['Precipitation_in'].isna().sum())\n",
    "for k in order:\n",
    "    v = rep_dict[k]\n",
    "    t_df = df[['Precipitation_in', 'Weather_Condition']]\n",
    "    t_df = t_df[(t_df['Precipitation_in'] != t_df['Precipitation_in'])]\n",
    "    t_df = t_df[t_df['Weather_Condition'].map(lambda x: k in x if x==x else False)]\n",
    "    df.loc[t_df.index, 'Precipitation_in'] = v\n",
    "df['Precipitation_in'].isna().sum()\n"
   ]
  },
  {
   "cell_type": "code",
   "execution_count": 13,
   "id": "1b002316-eb1d-4faa-84f1-1fdadd8cc2db",
   "metadata": {},
   "outputs": [
    {
     "data": {
      "text/html": [
       "<div>\n",
       "<style scoped>\n",
       "    .dataframe tbody tr th:only-of-type {\n",
       "        vertical-align: middle;\n",
       "    }\n",
       "\n",
       "    .dataframe tbody tr th {\n",
       "        vertical-align: top;\n",
       "    }\n",
       "\n",
       "    .dataframe thead th {\n",
       "        text-align: right;\n",
       "    }\n",
       "</style>\n",
       "<table border=\"1\" class=\"dataframe\">\n",
       "  <thead>\n",
       "    <tr style=\"text-align: right;\">\n",
       "      <th></th>\n",
       "      <th>ID</th>\n",
       "      <th>Source</th>\n",
       "      <th>TMC</th>\n",
       "      <th>Severity</th>\n",
       "      <th>Start_Time</th>\n",
       "      <th>End_Time</th>\n",
       "      <th>Start_Lat</th>\n",
       "      <th>Start_Lng</th>\n",
       "      <th>End_Lat</th>\n",
       "      <th>End_Lng</th>\n",
       "      <th>...</th>\n",
       "      <th>Roundabout</th>\n",
       "      <th>Station</th>\n",
       "      <th>Stop</th>\n",
       "      <th>Traffic_Calming</th>\n",
       "      <th>Traffic_Signal</th>\n",
       "      <th>Turning_Loop</th>\n",
       "      <th>Sunrise_Sunset</th>\n",
       "      <th>Civil_Twilight</th>\n",
       "      <th>Nautical_Twilight</th>\n",
       "      <th>Astronomical_Twilight</th>\n",
       "    </tr>\n",
       "  </thead>\n",
       "  <tbody>\n",
       "    <tr>\n",
       "      <th>0</th>\n",
       "      <td>A-1</td>\n",
       "      <td>MapQuest</td>\n",
       "      <td>201.0</td>\n",
       "      <td>3</td>\n",
       "      <td>2016-02-08 05:46:00</td>\n",
       "      <td>2016-02-08 11:00:00</td>\n",
       "      <td>39.865147</td>\n",
       "      <td>-84.058723</td>\n",
       "      <td>NaN</td>\n",
       "      <td>NaN</td>\n",
       "      <td>...</td>\n",
       "      <td>False</td>\n",
       "      <td>False</td>\n",
       "      <td>False</td>\n",
       "      <td>False</td>\n",
       "      <td>False</td>\n",
       "      <td>False</td>\n",
       "      <td>1.0</td>\n",
       "      <td>1.0</td>\n",
       "      <td>1.0</td>\n",
       "      <td>1.0</td>\n",
       "    </tr>\n",
       "    <tr>\n",
       "      <th>1</th>\n",
       "      <td>A-2</td>\n",
       "      <td>MapQuest</td>\n",
       "      <td>201.0</td>\n",
       "      <td>2</td>\n",
       "      <td>2016-02-08 06:07:59</td>\n",
       "      <td>2016-02-08 06:37:59</td>\n",
       "      <td>39.928059</td>\n",
       "      <td>-82.831184</td>\n",
       "      <td>NaN</td>\n",
       "      <td>NaN</td>\n",
       "      <td>...</td>\n",
       "      <td>False</td>\n",
       "      <td>False</td>\n",
       "      <td>False</td>\n",
       "      <td>False</td>\n",
       "      <td>False</td>\n",
       "      <td>False</td>\n",
       "      <td>1.0</td>\n",
       "      <td>1.0</td>\n",
       "      <td>1.0</td>\n",
       "      <td>0.0</td>\n",
       "    </tr>\n",
       "    <tr>\n",
       "      <th>2</th>\n",
       "      <td>A-3</td>\n",
       "      <td>MapQuest</td>\n",
       "      <td>201.0</td>\n",
       "      <td>2</td>\n",
       "      <td>2016-02-08 06:49:27</td>\n",
       "      <td>2016-02-08 07:19:27</td>\n",
       "      <td>39.063148</td>\n",
       "      <td>-84.032608</td>\n",
       "      <td>NaN</td>\n",
       "      <td>NaN</td>\n",
       "      <td>...</td>\n",
       "      <td>False</td>\n",
       "      <td>False</td>\n",
       "      <td>False</td>\n",
       "      <td>False</td>\n",
       "      <td>True</td>\n",
       "      <td>False</td>\n",
       "      <td>1.0</td>\n",
       "      <td>1.0</td>\n",
       "      <td>0.0</td>\n",
       "      <td>0.0</td>\n",
       "    </tr>\n",
       "    <tr>\n",
       "      <th>3</th>\n",
       "      <td>A-4</td>\n",
       "      <td>MapQuest</td>\n",
       "      <td>201.0</td>\n",
       "      <td>3</td>\n",
       "      <td>2016-02-08 07:23:34</td>\n",
       "      <td>2016-02-08 07:53:34</td>\n",
       "      <td>39.747753</td>\n",
       "      <td>-84.205582</td>\n",
       "      <td>NaN</td>\n",
       "      <td>NaN</td>\n",
       "      <td>...</td>\n",
       "      <td>False</td>\n",
       "      <td>False</td>\n",
       "      <td>False</td>\n",
       "      <td>False</td>\n",
       "      <td>False</td>\n",
       "      <td>False</td>\n",
       "      <td>1.0</td>\n",
       "      <td>0.0</td>\n",
       "      <td>0.0</td>\n",
       "      <td>0.0</td>\n",
       "    </tr>\n",
       "    <tr>\n",
       "      <th>4</th>\n",
       "      <td>A-5</td>\n",
       "      <td>MapQuest</td>\n",
       "      <td>201.0</td>\n",
       "      <td>2</td>\n",
       "      <td>2016-02-08 07:39:07</td>\n",
       "      <td>2016-02-08 08:09:07</td>\n",
       "      <td>39.627781</td>\n",
       "      <td>-84.188354</td>\n",
       "      <td>NaN</td>\n",
       "      <td>NaN</td>\n",
       "      <td>...</td>\n",
       "      <td>False</td>\n",
       "      <td>False</td>\n",
       "      <td>False</td>\n",
       "      <td>False</td>\n",
       "      <td>True</td>\n",
       "      <td>False</td>\n",
       "      <td>0.0</td>\n",
       "      <td>0.0</td>\n",
       "      <td>0.0</td>\n",
       "      <td>0.0</td>\n",
       "    </tr>\n",
       "    <tr>\n",
       "      <th>...</th>\n",
       "      <td>...</td>\n",
       "      <td>...</td>\n",
       "      <td>...</td>\n",
       "      <td>...</td>\n",
       "      <td>...</td>\n",
       "      <td>...</td>\n",
       "      <td>...</td>\n",
       "      <td>...</td>\n",
       "      <td>...</td>\n",
       "      <td>...</td>\n",
       "      <td>...</td>\n",
       "      <td>...</td>\n",
       "      <td>...</td>\n",
       "      <td>...</td>\n",
       "      <td>...</td>\n",
       "      <td>...</td>\n",
       "      <td>...</td>\n",
       "      <td>...</td>\n",
       "      <td>...</td>\n",
       "      <td>...</td>\n",
       "      <td>...</td>\n",
       "    </tr>\n",
       "    <tr>\n",
       "      <th>3513612</th>\n",
       "      <td>A-3513776</td>\n",
       "      <td>Bing</td>\n",
       "      <td>NaN</td>\n",
       "      <td>2</td>\n",
       "      <td>2019-08-23 18:03:25</td>\n",
       "      <td>2019-08-23 18:32:01</td>\n",
       "      <td>34.002480</td>\n",
       "      <td>-117.379360</td>\n",
       "      <td>33.99888</td>\n",
       "      <td>-117.37094</td>\n",
       "      <td>...</td>\n",
       "      <td>False</td>\n",
       "      <td>False</td>\n",
       "      <td>False</td>\n",
       "      <td>False</td>\n",
       "      <td>False</td>\n",
       "      <td>False</td>\n",
       "      <td>0.0</td>\n",
       "      <td>0.0</td>\n",
       "      <td>0.0</td>\n",
       "      <td>0.0</td>\n",
       "    </tr>\n",
       "    <tr>\n",
       "      <th>3513613</th>\n",
       "      <td>A-3513777</td>\n",
       "      <td>Bing</td>\n",
       "      <td>NaN</td>\n",
       "      <td>2</td>\n",
       "      <td>2019-08-23 19:11:30</td>\n",
       "      <td>2019-08-23 19:38:23</td>\n",
       "      <td>32.766960</td>\n",
       "      <td>-117.148060</td>\n",
       "      <td>32.76555</td>\n",
       "      <td>-117.15363</td>\n",
       "      <td>...</td>\n",
       "      <td>False</td>\n",
       "      <td>False</td>\n",
       "      <td>False</td>\n",
       "      <td>False</td>\n",
       "      <td>False</td>\n",
       "      <td>False</td>\n",
       "      <td>0.0</td>\n",
       "      <td>0.0</td>\n",
       "      <td>0.0</td>\n",
       "      <td>0.0</td>\n",
       "    </tr>\n",
       "    <tr>\n",
       "      <th>3513614</th>\n",
       "      <td>A-3513778</td>\n",
       "      <td>Bing</td>\n",
       "      <td>NaN</td>\n",
       "      <td>2</td>\n",
       "      <td>2019-08-23 19:00:21</td>\n",
       "      <td>2019-08-23 19:28:49</td>\n",
       "      <td>33.775450</td>\n",
       "      <td>-117.847790</td>\n",
       "      <td>33.77740</td>\n",
       "      <td>-117.85727</td>\n",
       "      <td>...</td>\n",
       "      <td>False</td>\n",
       "      <td>False</td>\n",
       "      <td>False</td>\n",
       "      <td>False</td>\n",
       "      <td>False</td>\n",
       "      <td>False</td>\n",
       "      <td>0.0</td>\n",
       "      <td>0.0</td>\n",
       "      <td>0.0</td>\n",
       "      <td>0.0</td>\n",
       "    </tr>\n",
       "    <tr>\n",
       "      <th>3513615</th>\n",
       "      <td>A-3513779</td>\n",
       "      <td>Bing</td>\n",
       "      <td>NaN</td>\n",
       "      <td>2</td>\n",
       "      <td>2019-08-23 19:00:21</td>\n",
       "      <td>2019-08-23 19:29:42</td>\n",
       "      <td>33.992460</td>\n",
       "      <td>-118.403020</td>\n",
       "      <td>33.98311</td>\n",
       "      <td>-118.39565</td>\n",
       "      <td>...</td>\n",
       "      <td>False</td>\n",
       "      <td>False</td>\n",
       "      <td>False</td>\n",
       "      <td>False</td>\n",
       "      <td>False</td>\n",
       "      <td>False</td>\n",
       "      <td>0.0</td>\n",
       "      <td>0.0</td>\n",
       "      <td>0.0</td>\n",
       "      <td>0.0</td>\n",
       "    </tr>\n",
       "    <tr>\n",
       "      <th>3513616</th>\n",
       "      <td>A-3513780</td>\n",
       "      <td>Bing</td>\n",
       "      <td>NaN</td>\n",
       "      <td>2</td>\n",
       "      <td>2019-08-23 18:52:06</td>\n",
       "      <td>2019-08-23 19:21:31</td>\n",
       "      <td>34.133930</td>\n",
       "      <td>-117.230920</td>\n",
       "      <td>34.13736</td>\n",
       "      <td>-117.23934</td>\n",
       "      <td>...</td>\n",
       "      <td>False</td>\n",
       "      <td>False</td>\n",
       "      <td>False</td>\n",
       "      <td>False</td>\n",
       "      <td>False</td>\n",
       "      <td>False</td>\n",
       "      <td>0.0</td>\n",
       "      <td>0.0</td>\n",
       "      <td>0.0</td>\n",
       "      <td>0.0</td>\n",
       "    </tr>\n",
       "  </tbody>\n",
       "</table>\n",
       "<p>3513617 rows × 49 columns</p>\n",
       "</div>"
      ],
      "text/plain": [
       "                ID    Source    TMC  Severity          Start_Time  \\\n",
       "0              A-1  MapQuest  201.0         3 2016-02-08 05:46:00   \n",
       "1              A-2  MapQuest  201.0         2 2016-02-08 06:07:59   \n",
       "2              A-3  MapQuest  201.0         2 2016-02-08 06:49:27   \n",
       "3              A-4  MapQuest  201.0         3 2016-02-08 07:23:34   \n",
       "4              A-5  MapQuest  201.0         2 2016-02-08 07:39:07   \n",
       "...            ...       ...    ...       ...                 ...   \n",
       "3513612  A-3513776      Bing    NaN         2 2019-08-23 18:03:25   \n",
       "3513613  A-3513777      Bing    NaN         2 2019-08-23 19:11:30   \n",
       "3513614  A-3513778      Bing    NaN         2 2019-08-23 19:00:21   \n",
       "3513615  A-3513779      Bing    NaN         2 2019-08-23 19:00:21   \n",
       "3513616  A-3513780      Bing    NaN         2 2019-08-23 18:52:06   \n",
       "\n",
       "                   End_Time  Start_Lat   Start_Lng   End_Lat    End_Lng  ...  \\\n",
       "0       2016-02-08 11:00:00  39.865147  -84.058723       NaN        NaN  ...   \n",
       "1       2016-02-08 06:37:59  39.928059  -82.831184       NaN        NaN  ...   \n",
       "2       2016-02-08 07:19:27  39.063148  -84.032608       NaN        NaN  ...   \n",
       "3       2016-02-08 07:53:34  39.747753  -84.205582       NaN        NaN  ...   \n",
       "4       2016-02-08 08:09:07  39.627781  -84.188354       NaN        NaN  ...   \n",
       "...                     ...        ...         ...       ...        ...  ...   \n",
       "3513612 2019-08-23 18:32:01  34.002480 -117.379360  33.99888 -117.37094  ...   \n",
       "3513613 2019-08-23 19:38:23  32.766960 -117.148060  32.76555 -117.15363  ...   \n",
       "3513614 2019-08-23 19:28:49  33.775450 -117.847790  33.77740 -117.85727  ...   \n",
       "3513615 2019-08-23 19:29:42  33.992460 -118.403020  33.98311 -118.39565  ...   \n",
       "3513616 2019-08-23 19:21:31  34.133930 -117.230920  34.13736 -117.23934  ...   \n",
       "\n",
       "         Roundabout Station   Stop Traffic_Calming Traffic_Signal  \\\n",
       "0             False   False  False           False          False   \n",
       "1             False   False  False           False          False   \n",
       "2             False   False  False           False           True   \n",
       "3             False   False  False           False          False   \n",
       "4             False   False  False           False           True   \n",
       "...             ...     ...    ...             ...            ...   \n",
       "3513612       False   False  False           False          False   \n",
       "3513613       False   False  False           False          False   \n",
       "3513614       False   False  False           False          False   \n",
       "3513615       False   False  False           False          False   \n",
       "3513616       False   False  False           False          False   \n",
       "\n",
       "        Turning_Loop Sunrise_Sunset Civil_Twilight Nautical_Twilight  \\\n",
       "0              False            1.0            1.0               1.0   \n",
       "1              False            1.0            1.0               1.0   \n",
       "2              False            1.0            1.0               0.0   \n",
       "3              False            1.0            0.0               0.0   \n",
       "4              False            0.0            0.0               0.0   \n",
       "...              ...            ...            ...               ...   \n",
       "3513612        False            0.0            0.0               0.0   \n",
       "3513613        False            0.0            0.0               0.0   \n",
       "3513614        False            0.0            0.0               0.0   \n",
       "3513615        False            0.0            0.0               0.0   \n",
       "3513616        False            0.0            0.0               0.0   \n",
       "\n",
       "        Astronomical_Twilight  \n",
       "0                         1.0  \n",
       "1                         0.0  \n",
       "2                         0.0  \n",
       "3                         0.0  \n",
       "4                         0.0  \n",
       "...                       ...  \n",
       "3513612                   0.0  \n",
       "3513613                   0.0  \n",
       "3513614                   0.0  \n",
       "3513615                   0.0  \n",
       "3513616                   0.0  \n",
       "\n",
       "[3513617 rows x 49 columns]"
      ]
     },
     "execution_count": 13,
     "metadata": {},
     "output_type": "execute_result"
    }
   ],
   "source": [
    "df"
   ]
  },
  {
   "cell_type": "markdown",
   "id": "afb55dde-1b6a-4575-a58a-e20885eb5a40",
   "metadata": {},
   "source": [
    "## Boolean Weather Columns"
   ]
  },
  {
   "cell_type": "code",
   "execution_count": 14,
   "id": "73421784-def6-4063-af6e-667a5cb87faa",
   "metadata": {},
   "outputs": [],
   "source": [
    "df['Rain_Bool'] =      df['Weather_Condition'].map(lambda x: 'Rain' in x or 'Drizzle' in x or 'Sleet' in x or 'storm' in x.lower() if x==x else False)\n",
    "df['Snow_Bool'] =      df['Weather_Condition'].map(lambda x: 'Snow' in x or 'Sleet' in x if x==x else False)\n",
    "df['Thunder_Bool'] =   df['Weather_Condition'].map(lambda x: 'Thunder' in x if x==x else False)\n",
    "df['Wind_Bool'] =      df['Weather_Condition'].map(lambda x: 'Windy' in x or 'Squalls' in x if x==x else False)\n",
    "df['Fog_Bool'] =       df['Weather_Condition'].map(lambda x: 'Fog' in x if x==x else False)\n",
    "df['Hail_Bool'] =      df['Weather_Condition'].map(lambda x: 'Hail' in x in x if x==x else False)\n",
    "df['Sand_Dust_Bool'] = df['Weather_Condition'].map(lambda x: 'Sand' in x or 'Dust' in x if x==x else False)"
   ]
  },
  {
   "cell_type": "markdown",
   "id": "77a85862-0326-4718-823c-095c6adf517b",
   "metadata": {
    "tags": []
   },
   "source": [
    "## Dropping Columns"
   ]
  },
  {
   "cell_type": "markdown",
   "id": "3d1d49f8-935d-46aa-a96b-38a9e8e85d5d",
   "metadata": {},
   "source": [
    "This list will contain the columns to drop"
   ]
  },
  {
   "cell_type": "code",
   "execution_count": 15,
   "id": "76f8f6d2-ca13-4ccb-b3dc-f2475613d59e",
   "metadata": {},
   "outputs": [],
   "source": [
    "drop_columns = []"
   ]
  },
  {
   "cell_type": "code",
   "execution_count": 16,
   "id": "89a12b95-530a-44ae-aa59-c3cf962d16cc",
   "metadata": {},
   "outputs": [],
   "source": [
    "if plots:\n",
    "    print('- - Percentages of nans per column - -')\n",
    "    df.isna().sum() / len(df) * 100"
   ]
  },
  {
   "cell_type": "code",
   "execution_count": 17,
   "id": "72eeadd4-09bd-4f8c-9b8a-6daee9bbe0af",
   "metadata": {},
   "outputs": [],
   "source": [
    "if plots:\n",
    "    plt.figure(figsize = (10,10))\n",
    "    sns.set(font_scale=0.7)\n",
    "    ignore_cols = ['TMC', 'Start_Lat', 'Start_Lng', 'End_Lat', 'End_Lng', 'Number']\n",
    "    sns.heatmap(abs(df.drop(columns=ignore_cols).corr(numeric_only=True)), annot=True, fmt='.2f')"
   ]
  },
  {
   "cell_type": "markdown",
   "id": "3d4b1e43-3dca-478e-84cf-2a844cd1a0af",
   "metadata": {},
   "source": [
    "*Turning Loop* has only one value (False), meaning no incident in the database occurred near a turning loop."
   ]
  },
  {
   "cell_type": "code",
   "execution_count": 18,
   "id": "056c09e7-b996-4caa-a30b-fff9a6c020a0",
   "metadata": {},
   "outputs": [
    {
     "data": {
      "text/plain": [
       "array([False])"
      ]
     },
     "execution_count": 18,
     "metadata": {},
     "output_type": "execute_result"
    }
   ],
   "source": [
    "drop_columns.append('Turning_Loop')\n",
    "df['Turning_Loop'].unique()"
   ]
  },
  {
   "cell_type": "markdown",
   "id": "91f2653b-c380-4d0a-8bd7-99689a363438",
   "metadata": {},
   "source": [
    "*Wind_Chill* has extremely high correlation with temperature, and also over 50% nans:"
   ]
  },
  {
   "cell_type": "code",
   "execution_count": 19,
   "id": "8736bd09-fa21-44f8-9bbf-e92c2eb4c799",
   "metadata": {},
   "outputs": [],
   "source": [
    "drop_columns.append('Wind_Chill_F')"
   ]
  },
  {
   "cell_type": "markdown",
   "id": "4de71cb2-d10e-4f80-9020-28aaf5319686",
   "metadata": {},
   "source": [
    "*End_Lat* and *End_Lng* contain over 70% nans.  \n",
    "They also have very high correlation with *Start_Lat* and *Start_Lng*.  "
   ]
  },
  {
   "cell_type": "code",
   "execution_count": 20,
   "id": "8107d14c-07ce-4024-959c-1aeac8d32a22",
   "metadata": {},
   "outputs": [],
   "source": [
    "if plots:\n",
    "    sns.heatmap(abs(df[['Start_Lat', 'Start_Lng', 'End_Lat', 'End_Lng']].corr(numeric_only=True)), annot=True, fmt='.2f')"
   ]
  },
  {
   "cell_type": "markdown",
   "id": "975e0978-649d-4767-a720-354f1fbfd760",
   "metadata": {},
   "source": [
    "Furthermore, in almost 40% of instances, *End_Lat* and *End_Lng* are exactly the same as *Start_Lat* and *Start_Lng*"
   ]
  },
  {
   "cell_type": "code",
   "execution_count": 21,
   "id": "2b7c5a2e-f77a-41e5-809d-07043b53d270",
   "metadata": {},
   "outputs": [
    {
     "name": "stdout",
     "output_type": "stream",
     "text": [
      "0.39341456650035417\n",
      "0.3906188544828512\n"
     ]
    }
   ],
   "source": [
    "print((df['Start_Lat'] == df['End_Lat']).mean() / (1-df['End_Lat'].isna().mean()))\n",
    "print((df['Start_Lng'] == df['End_Lng']).mean() / (1-df['End_Lng'].isna().mean()))"
   ]
  },
  {
   "cell_type": "code",
   "execution_count": 22,
   "id": "14ebf288-de7d-44a1-b262-9d9837d190a1",
   "metadata": {},
   "outputs": [],
   "source": [
    "drop_columns += ['End_Lat', 'End_Lng']"
   ]
  },
  {
   "cell_type": "code",
   "execution_count": 23,
   "id": "27b3e878-ad5f-4c9b-b158-be45636933a8",
   "metadata": {},
   "outputs": [],
   "source": [
    "if plots:\n",
    "    df['Precipitation_in'].plot()"
   ]
  },
  {
   "cell_type": "code",
   "execution_count": 24,
   "id": "127b3f00-76c4-4ecb-8a4d-13de91fb2ba2",
   "metadata": {},
   "outputs": [],
   "source": [
    "if plots:\n",
    "    rain_per_cond = df[['Weather_Condition', 'Precipitation_in']].fillna(0).groupby('Weather_Condition').mean()\n",
    "    rain_per_cond.reset_index(inplace=True)\n",
    "    rain_per_cond.sort_values(by='Precipitation_in', inplace=True)"
   ]
  },
  {
   "cell_type": "code",
   "execution_count": 25,
   "id": "f55ed3e3-9c5f-486d-92e6-81312ca38643",
   "metadata": {},
   "outputs": [],
   "source": [
    "if plots:\n",
    "    sns.set(rc={\"figure.figsize\":(12, 4), \"figure.dpi\":300})\n",
    "    sns.set(font_scale = 0.5)\n",
    "    plt.xticks(rotation=90)\n",
    "    a = sns.barplot(x='Weather_Condition', y='Precipitation_in', data=rain_per_cond)\n",
    "    a.set(yscale=\"log\")"
   ]
  },
  {
   "cell_type": "code",
   "execution_count": 26,
   "id": "1498eb0f-2fb3-4d53-9af7-7fec14baa388",
   "metadata": {},
   "outputs": [],
   "source": [
    "df['Precipitation_in'].fillna(0, inplace=True)\n",
    "df['Airport_Code'].fillna(\"\", inplace=True)\n",
    "df['City'].fillna(\"\", inplace=True)"
   ]
  },
  {
   "cell_type": "markdown",
   "id": "921efd23-76aa-435f-b1f4-8c43803e004b",
   "metadata": {},
   "source": [
    "Drop the twilight columns because they correlate highly with sunset and time"
   ]
  },
  {
   "cell_type": "code",
   "execution_count": 27,
   "id": "aa0ca6b2-3f9b-402a-be00-dd3c872077aa",
   "metadata": {},
   "outputs": [],
   "source": [
    "drop_columns += ['Nautical_Twilight', 'Civil_Twilight', 'Astronomical_Twilight']"
   ]
  },
  {
   "cell_type": "markdown",
   "id": "ff1705de-6028-46a9-8a76-63a19dbd48d6",
   "metadata": {},
   "source": [
    "Other"
   ]
  },
  {
   "cell_type": "code",
   "execution_count": 28,
   "id": "810f7d10-8e5e-4893-9b24-fced67e7ba42",
   "metadata": {},
   "outputs": [],
   "source": [
    "drop_columns += ['Source', 'Number', 'Weather_Condition']"
   ]
  },
  {
   "cell_type": "code",
   "execution_count": 29,
   "id": "350f03f5-9dd9-4793-8236-f311feb8551d",
   "metadata": {},
   "outputs": [],
   "source": [
    "df.drop(columns=drop_columns, inplace=True)"
   ]
  },
  {
   "cell_type": "markdown",
   "id": "5ff0de20-279d-4fa1-aa84-f26384ff76a4",
   "metadata": {},
   "source": [
    "## Dropping Rows"
   ]
  },
  {
   "cell_type": "code",
   "execution_count": 30,
   "id": "de9490e3-7a29-4a29-b804-ba7edd2e8c5d",
   "metadata": {},
   "outputs": [
    {
     "data": {
      "text/plain": [
       "0"
      ]
     },
     "execution_count": 30,
     "metadata": {},
     "output_type": "execute_result"
    }
   ],
   "source": [
    "df.duplicated().sum()"
   ]
  },
  {
   "cell_type": "code",
   "execution_count": 31,
   "id": "9b2d19f0-9da3-4359-95aa-c27133d4bb90",
   "metadata": {},
   "outputs": [
    {
     "name": "stdout",
     "output_type": "stream",
     "text": [
      "Before dropping: 3513617 rows\n",
      "After dropping: 3512858 rows\n"
     ]
    }
   ],
   "source": [
    "print('Before dropping: {} rows'.format(len(df)))\n",
    "df = df.dropna(thresh=len(df.columns) - 9)\n",
    "print('After dropping: {} rows'.format(len(df)))"
   ]
  },
  {
   "cell_type": "code",
   "execution_count": 32,
   "id": "7c422793-0806-43b7-b720-bb2a608b5992",
   "metadata": {},
   "outputs": [],
   "source": [
    "if plots:\n",
    "    print('- - Percentages of nans per column - -')\n",
    "    df.isna().sum() / len(df) * 100"
   ]
  },
  {
   "cell_type": "code",
   "execution_count": 33,
   "id": "841a1b2b-62d9-4692-a07b-cbdff59dd215",
   "metadata": {},
   "outputs": [],
   "source": [
    "# joejoe = df.groupby('State', as_index = False)['Severity'].count().sort_values('Severity', ascending=True)\n",
    "\n",
    "# states_to_go = list(joejoe[joejoe['Severity'] < 3000]['State'])\n",
    "# for state in states_to_go:\n",
    "#     df = df[df['State'] != state]"
   ]
  },
  {
   "cell_type": "markdown",
   "id": "88a1e233-4722-4717-b7c2-d56a07068b50",
   "metadata": {},
   "source": [
    "## State abbreviations to full name"
   ]
  },
  {
   "cell_type": "code",
   "execution_count": 34,
   "id": "2ac7aa96-b03b-48b3-8cb2-3275f6c11970",
   "metadata": {},
   "outputs": [
    {
     "name": "stderr",
     "output_type": "stream",
     "text": [
      "C:\\Users\\Geert\\AppData\\Local\\Temp\\ipykernel_8404\\1648238365.py:8: FutureWarning: The frame.append method is deprecated and will be removed from pandas in a future version. Use pandas.concat instead.\n",
      "  websitedf = websitedf.append(new_row, ignore_index=True)\n"
     ]
    }
   ],
   "source": [
    "import requests\n",
    "url = 'https://www.50states.com/abbreviations.htm'\n",
    "html = requests.get(url).content\n",
    "df_list = pd.read_html(html)\n",
    "websitedf = df_list[0]\n",
    "websitedf.drop(columns = ['STANDARD ABBREVIATION'], inplace=True)\n",
    "new_row = {'US STATE':'District of Columbia', \"POSTAL ABBREVIATION\": \"DC\"}\n",
    "websitedf = websitedf.append(new_row, ignore_index=True)"
   ]
  },
  {
   "cell_type": "code",
   "execution_count": 35,
   "id": "c1bbc8a9-a1b9-4540-a2e9-9128c4326f49",
   "metadata": {},
   "outputs": [
    {
     "data": {
      "text/plain": [
       "array(['Ohio', 'West Virginia', 'California', 'Florida', 'Georgia',\n",
       "       'South Carolina', 'Nebraska', 'Iowa', 'Illinois', 'Missouri',\n",
       "       'Wisconsin', 'Indiana', 'Michigan', 'New Jersey', 'New York',\n",
       "       'Connecticut', 'Massachusetts', 'Rhode Island', 'New Hampshire',\n",
       "       'Pennsylvania', 'Kentucky', 'Maryland', 'Virginia',\n",
       "       'District of Columbia', 'Delaware', 'Texas', 'Washington',\n",
       "       'Oregon', 'Alabama', 'Tennessee', 'North Carolina', 'Kansas',\n",
       "       'Louisiana', 'Oklahoma', 'Colorado', 'Utah', 'Arizona',\n",
       "       'Minnesota', 'Mississippi', 'Nevada', 'Maine', 'Arkansas', 'Idaho',\n",
       "       'Vermont', 'New Mexico', 'North Dakota', 'Wyoming', 'South Dakota',\n",
       "       'Montana'], dtype=object)"
      ]
     },
     "execution_count": 35,
     "metadata": {},
     "output_type": "execute_result"
    }
   ],
   "source": [
    "websitedf.columns = ['StateFull', 'State']\n",
    "df = pd.merge(df, websitedf, on='State')\n",
    "df['StateFull'].unique()"
   ]
  },
  {
   "cell_type": "markdown",
   "id": "7b9ecf50-fa2b-42ba-953f-49861eaff53a",
   "metadata": {},
   "source": [
    "# Save to Pickle"
   ]
  },
  {
   "cell_type": "code",
   "execution_count": 36,
   "id": "bc3153c0-471e-4827-9f10-7cabd4d376e6",
   "metadata": {},
   "outputs": [
    {
     "data": {
      "text/html": [
       "<div>\n",
       "<style scoped>\n",
       "    .dataframe tbody tr th:only-of-type {\n",
       "        vertical-align: middle;\n",
       "    }\n",
       "\n",
       "    .dataframe tbody tr th {\n",
       "        vertical-align: top;\n",
       "    }\n",
       "\n",
       "    .dataframe thead th {\n",
       "        text-align: right;\n",
       "    }\n",
       "</style>\n",
       "<table border=\"1\" class=\"dataframe\">\n",
       "  <thead>\n",
       "    <tr style=\"text-align: right;\">\n",
       "      <th></th>\n",
       "      <th>ID</th>\n",
       "      <th>TMC</th>\n",
       "      <th>Severity</th>\n",
       "      <th>Start_Time</th>\n",
       "      <th>End_Time</th>\n",
       "      <th>Start_Lat</th>\n",
       "      <th>Start_Lng</th>\n",
       "      <th>Distance_mi</th>\n",
       "      <th>Description</th>\n",
       "      <th>Street</th>\n",
       "      <th>...</th>\n",
       "      <th>Traffic_Signal</th>\n",
       "      <th>Sunrise_Sunset</th>\n",
       "      <th>Rain_Bool</th>\n",
       "      <th>Snow_Bool</th>\n",
       "      <th>Thunder_Bool</th>\n",
       "      <th>Wind_Bool</th>\n",
       "      <th>Fog_Bool</th>\n",
       "      <th>Hail_Bool</th>\n",
       "      <th>Sand_Dust_Bool</th>\n",
       "      <th>StateFull</th>\n",
       "    </tr>\n",
       "  </thead>\n",
       "  <tbody>\n",
       "    <tr>\n",
       "      <th>0</th>\n",
       "      <td>A-1</td>\n",
       "      <td>201.0</td>\n",
       "      <td>3</td>\n",
       "      <td>2016-02-08 05:46:00</td>\n",
       "      <td>2016-02-08 11:00:00</td>\n",
       "      <td>39.865147</td>\n",
       "      <td>-84.058723</td>\n",
       "      <td>0.01</td>\n",
       "      <td>Right lane blocked due to accident on I-70 Eas...</td>\n",
       "      <td>I-70 E</td>\n",
       "      <td>...</td>\n",
       "      <td>False</td>\n",
       "      <td>1.0</td>\n",
       "      <td>True</td>\n",
       "      <td>False</td>\n",
       "      <td>False</td>\n",
       "      <td>False</td>\n",
       "      <td>False</td>\n",
       "      <td>False</td>\n",
       "      <td>False</td>\n",
       "      <td>Ohio</td>\n",
       "    </tr>\n",
       "    <tr>\n",
       "      <th>1</th>\n",
       "      <td>A-2</td>\n",
       "      <td>201.0</td>\n",
       "      <td>2</td>\n",
       "      <td>2016-02-08 06:07:59</td>\n",
       "      <td>2016-02-08 06:37:59</td>\n",
       "      <td>39.928059</td>\n",
       "      <td>-82.831184</td>\n",
       "      <td>0.01</td>\n",
       "      <td>Accident on Brice Rd at Tussing Rd. Expect del...</td>\n",
       "      <td>Brice Rd</td>\n",
       "      <td>...</td>\n",
       "      <td>False</td>\n",
       "      <td>1.0</td>\n",
       "      <td>True</td>\n",
       "      <td>False</td>\n",
       "      <td>False</td>\n",
       "      <td>False</td>\n",
       "      <td>False</td>\n",
       "      <td>False</td>\n",
       "      <td>False</td>\n",
       "      <td>Ohio</td>\n",
       "    </tr>\n",
       "    <tr>\n",
       "      <th>2</th>\n",
       "      <td>A-3</td>\n",
       "      <td>201.0</td>\n",
       "      <td>2</td>\n",
       "      <td>2016-02-08 06:49:27</td>\n",
       "      <td>2016-02-08 07:19:27</td>\n",
       "      <td>39.063148</td>\n",
       "      <td>-84.032608</td>\n",
       "      <td>0.01</td>\n",
       "      <td>Accident on OH-32 State Route 32 Westbound at ...</td>\n",
       "      <td>State Route 32</td>\n",
       "      <td>...</td>\n",
       "      <td>True</td>\n",
       "      <td>1.0</td>\n",
       "      <td>False</td>\n",
       "      <td>False</td>\n",
       "      <td>False</td>\n",
       "      <td>False</td>\n",
       "      <td>False</td>\n",
       "      <td>False</td>\n",
       "      <td>False</td>\n",
       "      <td>Ohio</td>\n",
       "    </tr>\n",
       "    <tr>\n",
       "      <th>3</th>\n",
       "      <td>A-4</td>\n",
       "      <td>201.0</td>\n",
       "      <td>3</td>\n",
       "      <td>2016-02-08 07:23:34</td>\n",
       "      <td>2016-02-08 07:53:34</td>\n",
       "      <td>39.747753</td>\n",
       "      <td>-84.205582</td>\n",
       "      <td>0.01</td>\n",
       "      <td>Accident on I-75 Southbound at Exits 52 52B US...</td>\n",
       "      <td>I-75 S</td>\n",
       "      <td>...</td>\n",
       "      <td>False</td>\n",
       "      <td>1.0</td>\n",
       "      <td>False</td>\n",
       "      <td>False</td>\n",
       "      <td>False</td>\n",
       "      <td>False</td>\n",
       "      <td>False</td>\n",
       "      <td>False</td>\n",
       "      <td>False</td>\n",
       "      <td>Ohio</td>\n",
       "    </tr>\n",
       "    <tr>\n",
       "      <th>4</th>\n",
       "      <td>A-5</td>\n",
       "      <td>201.0</td>\n",
       "      <td>2</td>\n",
       "      <td>2016-02-08 07:39:07</td>\n",
       "      <td>2016-02-08 08:09:07</td>\n",
       "      <td>39.627781</td>\n",
       "      <td>-84.188354</td>\n",
       "      <td>0.01</td>\n",
       "      <td>Accident on McEwen Rd at OH-725 Miamisburg Cen...</td>\n",
       "      <td>Miamisburg Centerville Rd</td>\n",
       "      <td>...</td>\n",
       "      <td>True</td>\n",
       "      <td>0.0</td>\n",
       "      <td>False</td>\n",
       "      <td>False</td>\n",
       "      <td>False</td>\n",
       "      <td>False</td>\n",
       "      <td>False</td>\n",
       "      <td>False</td>\n",
       "      <td>False</td>\n",
       "      <td>Ohio</td>\n",
       "    </tr>\n",
       "  </tbody>\n",
       "</table>\n",
       "<p>5 rows × 47 columns</p>\n",
       "</div>"
      ],
      "text/plain": [
       "    ID    TMC  Severity          Start_Time            End_Time  Start_Lat  \\\n",
       "0  A-1  201.0         3 2016-02-08 05:46:00 2016-02-08 11:00:00  39.865147   \n",
       "1  A-2  201.0         2 2016-02-08 06:07:59 2016-02-08 06:37:59  39.928059   \n",
       "2  A-3  201.0         2 2016-02-08 06:49:27 2016-02-08 07:19:27  39.063148   \n",
       "3  A-4  201.0         3 2016-02-08 07:23:34 2016-02-08 07:53:34  39.747753   \n",
       "4  A-5  201.0         2 2016-02-08 07:39:07 2016-02-08 08:09:07  39.627781   \n",
       "\n",
       "   Start_Lng  Distance_mi                                        Description  \\\n",
       "0 -84.058723         0.01  Right lane blocked due to accident on I-70 Eas...   \n",
       "1 -82.831184         0.01  Accident on Brice Rd at Tussing Rd. Expect del...   \n",
       "2 -84.032608         0.01  Accident on OH-32 State Route 32 Westbound at ...   \n",
       "3 -84.205582         0.01  Accident on I-75 Southbound at Exits 52 52B US...   \n",
       "4 -84.188354         0.01  Accident on McEwen Rd at OH-725 Miamisburg Cen...   \n",
       "\n",
       "                      Street  ... Traffic_Signal Sunrise_Sunset Rain_Bool  \\\n",
       "0                     I-70 E  ...          False            1.0      True   \n",
       "1                   Brice Rd  ...          False            1.0      True   \n",
       "2             State Route 32  ...           True            1.0     False   \n",
       "3                     I-75 S  ...          False            1.0     False   \n",
       "4  Miamisburg Centerville Rd  ...           True            0.0     False   \n",
       "\n",
       "  Snow_Bool Thunder_Bool Wind_Bool Fog_Bool Hail_Bool Sand_Dust_Bool  \\\n",
       "0     False        False     False    False     False          False   \n",
       "1     False        False     False    False     False          False   \n",
       "2     False        False     False    False     False          False   \n",
       "3     False        False     False    False     False          False   \n",
       "4     False        False     False    False     False          False   \n",
       "\n",
       "   StateFull  \n",
       "0       Ohio  \n",
       "1       Ohio  \n",
       "2       Ohio  \n",
       "3       Ohio  \n",
       "4       Ohio  \n",
       "\n",
       "[5 rows x 47 columns]"
      ]
     },
     "execution_count": 36,
     "metadata": {},
     "output_type": "execute_result"
    }
   ],
   "source": [
    "df.head(5)"
   ]
  },
  {
   "cell_type": "code",
   "execution_count": 37,
   "id": "5fe9b757-2452-44ab-9558-9479bae530cf",
   "metadata": {},
   "outputs": [],
   "source": [
    "df.to_pickle('US_Accidents_June20_Cleaned_new.pkl')\n",
    "df.to_csv('US_Accidents_June20_Cleaned_new.csv')"
   ]
  },
  {
   "cell_type": "code",
   "execution_count": 38,
   "id": "a6165e42-eb24-4ea9-b615-8992a27a4793",
   "metadata": {},
   "outputs": [
    {
     "data": {
      "text/plain": [
       "0"
      ]
     },
     "execution_count": 38,
     "metadata": {},
     "output_type": "execute_result"
    }
   ],
   "source": [
    "df['City'].isna().sum()"
   ]
  },
  {
   "cell_type": "code",
   "execution_count": null,
   "id": "a3e0759f-8c60-4ed6-adb0-ab34c4e3222e",
   "metadata": {},
   "outputs": [],
   "source": []
  }
 ],
 "metadata": {
  "kernelspec": {
   "display_name": "Python 3 (ipykernel)",
   "language": "python",
   "name": "python3"
  },
  "language_info": {
   "codemirror_mode": {
    "name": "ipython",
    "version": 3
   },
   "file_extension": ".py",
   "mimetype": "text/x-python",
   "name": "python",
   "nbconvert_exporter": "python",
   "pygments_lexer": "ipython3",
   "version": "3.10.8"
  },
  "toc-autonumbering": true
 },
 "nbformat": 4,
 "nbformat_minor": 5
}
