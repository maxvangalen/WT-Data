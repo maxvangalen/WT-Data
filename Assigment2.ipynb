{
 "cells": [
  {
   "cell_type": "code",
   "execution_count": 64,
   "id": "78bbb0b2-f3c7-458e-945e-163702adff4a",
   "metadata": {},
   "outputs": [],
   "source": [
    "import pandas as pd"
   ]
  },
  {
   "cell_type": "code",
   "execution_count": 2,
   "id": "46ffc9dc-3906-47da-b623-ae99ddbf3ee5",
   "metadata": {},
   "outputs": [],
   "source": [
    "df = pd.read_csv('US_Accidents_June20.csv')"
   ]
  },
  {
   "cell_type": "code",
   "execution_count": 65,
   "id": "4d9a25d0-aaf6-4c6c-9f36-71280c6a7630",
   "metadata": {},
   "outputs": [
    {
     "data": {
      "text/plain": [
       "ID                        0.000000\n",
       "Source                    0.000000\n",
       "TMC                      29.451104\n",
       "Severity                  0.000000\n",
       "Start_Time                0.000000\n",
       "End_Time                  0.000000\n",
       "Start_Lat                 0.000000\n",
       "Start_Lng                 0.000000\n",
       "End_Lat                  70.548896\n",
       "End_Lng                  70.548896\n",
       "Distance(mi)              0.000000\n",
       "Description               0.000028\n",
       "Number                   64.402694\n",
       "Street                    0.000000\n",
       "Side                      0.000000\n",
       "City                      0.003188\n",
       "County                    0.000000\n",
       "State                     0.000000\n",
       "Zipcode                   0.030424\n",
       "Country                   0.000000\n",
       "Timezone                  0.110428\n",
       "Airport_Code              0.192337\n",
       "Weather_Timestamp         1.233003\n",
       "Temperature(F)            1.870779\n",
       "Wind_Chill(F)            53.171675\n",
       "Humidity(%)               1.983341\n",
       "Pressure(in)              1.590441\n",
       "Visibility(mi)            2.158915\n",
       "Wind_Direction            1.675595\n",
       "Wind_Speed(mph)          12.938490\n",
       "Precipitation(in)        57.657793\n",
       "Weather_Condition         2.166941\n",
       "Amenity                   0.000000\n",
       "Bump                      0.000000\n",
       "Crossing                  0.000000\n",
       "Give_Way                  0.000000\n",
       "Junction                  0.000000\n",
       "No_Exit                   0.000000\n",
       "Railway                   0.000000\n",
       "Roundabout                0.000000\n",
       "Station                   0.000000\n",
       "Stop                      0.000000\n",
       "Traffic_Calming           0.000000\n",
       "Traffic_Signal            0.000000\n",
       "Turning_Loop              0.000000\n",
       "Sunrise_Sunset            0.003273\n",
       "Civil_Twilight            0.003273\n",
       "Nautical_Twilight         0.003273\n",
       "Astronomical_Twilight     0.003273\n",
       "dtype: float64"
      ]
     },
     "execution_count": 65,
     "metadata": {},
     "output_type": "execute_result"
    }
   ],
   "source": [
    "df.isna().sum() / len(df) * 100"
   ]
  },
  {
   "cell_type": "code",
   "execution_count": 67,
   "id": "be1a5919-dc71-415c-a9f6-f74d22ed7a22",
   "metadata": {},
   "outputs": [
    {
     "data": {
      "image/png": "[encoded data removed]",
      "text/plain": [
       "<Figure size 640x480 with 1 Axes>"
      ]
     },
     "metadata": {},
     "output_type": "display_data"
    }
   ],
   "source": [
    "import seaborn as sns\n",
    "import matplotlib.pyplot as plt\n",
    "\n",
    "# plt.figure(figsize=(12,3), dpi=1000)\n",
    "# sns.set(font_scale=0.6)\n",
    "a  = sns.countplot(x='Severity', data=df)\n",
    "# a.set(yscale='log')\n",
    "plt.xticks(rotation=90)\n",
    "pass"
   ]
  },
  {
   "cell_type": "code",
   "execution_count": 30,
   "id": "5d229245-3b98-4649-86c0-96c2f698c1d9",
   "metadata": {},
   "outputs": [
    {
     "data": {
      "text/plain": [
       "<AxesSubplot:>"
      ]
     },
     "execution_count": 30,
     "metadata": {},
     "output_type": "execute_result"
    },
    {
     "data": {
      "image/png": "[encoded data removed]",
      "text/plain": [
       "<Figure size 640x480 with 2 Axes>"
      ]
     },
     "metadata": {},
     "output_type": "display_data"
    }
   ],
   "source": [
    "# sns.heatmap(df.drop(columns=['Start_Lat', 'Start_Lng', 'End_Lat', 'End_Lng', 'Number']).corr(numeric_only=True), annot=True)\n",
    "sns.heatmap(df[['Precipitation(in)', 'Severity']].corr(numeric_only=True), annot=True)"
   ]
  },
  {
   "cell_type": "code",
   "execution_count": 26,
   "id": "bc7ac8da-a0c4-41fa-a773-6faf99f8e324",
   "metadata": {},
   "outputs": [
    {
     "data": {
      "text/plain": [
       "False    3513617\n",
       "Name: Turning_Loop, dtype: int64"
      ]
     },
     "execution_count": 26,
     "metadata": {},
     "output_type": "execute_result"
    }
   ],
   "source": [
    "df['Turning_Loop'].value_counts()"
   ]
  },
  {
   "cell_type": "code",
   "execution_count": 34,
   "id": "30806056-ea76-43a3-a72a-762ec81a2f8d",
   "metadata": {},
   "outputs": [
    {
     "data": {
      "text/plain": [
       "0          2016-02-08 05:46:00\n",
       "1          2016-02-08 06:07:59\n",
       "2          2016-02-08 06:49:27\n",
       "3          2016-02-08 07:23:34\n",
       "4          2016-02-08 07:39:07\n",
       "                  ...         \n",
       "3513612    2019-08-23 18:03:25\n",
       "3513613    2019-08-23 19:11:30\n",
       "3513614    2019-08-23 19:00:21\n",
       "3513615    2019-08-23 19:00:21\n",
       "3513616    2019-08-23 18:52:06\n",
       "Name: Start_Time, Length: 3513617, dtype: object"
      ]
     },
     "execution_count": 34,
     "metadata": {},
     "output_type": "execute_result"
    }
   ],
   "source": [
    "df['Start_Time']"
   ]
  },
  {
   "cell_type": "code",
   "execution_count": 38,
   "id": "9a71b92b-66f9-4b2b-801d-228831a7351a",
   "metadata": {},
   "outputs": [
    {
     "data": {
      "text/plain": [
       "US/Eastern     1484854\n",
       "US/Pacific      986859\n",
       "US/Central      837122\n",
       "US/Mountain     200902\n",
       "Name: Timezone, dtype: int64"
      ]
     },
     "execution_count": 38,
     "metadata": {},
     "output_type": "execute_result"
    }
   ],
   "source": [
    "df['Timezone'].value_counts()"
   ]
  },
  {
   "cell_type": "code",
   "execution_count": 40,
   "id": "933ce016-e328-429c-ba54-acd824a0c8ba",
   "metadata": {},
   "outputs": [
    {
     "data": {
      "text/plain": [
       "24.555269"
      ]
     },
     "execution_count": 40,
     "metadata": {},
     "output_type": "execute_result"
    }
   ],
   "source": [
    "df['Start_Lat'].min()"
   ]
  },
  {
   "cell_type": "code",
   "execution_count": 57,
   "id": "65c7e8f4-bdf9-469a-a091-19058b86ea3c",
   "metadata": {},
   "outputs": [
    {
     "data": {
      "text/plain": [
       "37.808498-122.366852    570\n",
       "33.941364-118.096634    561\n",
       "42.476501-83.111794     534\n",
       "33.744976-84.390343     530\n",
       "34.858925-82.259857     494\n",
       "                       ... \n",
       "43.13942-77.492752        1\n",
       "40.466385-74.287964       1\n",
       "40.785709-73.246277       1\n",
       "40.79887-73.173111        1\n",
       "33.77545-117.84779        1\n",
       "Length: 1368591, dtype: int64"
      ]
     },
     "execution_count": 57,
     "metadata": {},
     "output_type": "execute_result"
    }
   ],
   "source": [
    "(df['Start_Lat'].map(lambda x:str(x)) + df['Start_Lng'].map(lambda x:str(x))).value_counts()\n"
   ]
  },
  {
   "cell_type": "code",
   "execution_count": 53,
   "id": "6cc114e3-d081-42e1-911d-e62d0c69bbc0",
   "metadata": {},
   "outputs": [
    {
     "data": {
      "text/plain": [
       "3513617"
      ]
     },
     "execution_count": 53,
     "metadata": {},
     "output_type": "execute_result"
    }
   ],
   "source": [
    "len(df)"
   ]
  },
  {
   "cell_type": "code",
   "execution_count": 55,
   "id": "505c8ce7-569a-41b7-9b71-b2ef3a7b563f",
   "metadata": {},
   "outputs": [
    {
     "data": {
      "text/plain": [
       "0"
      ]
     },
     "execution_count": 55,
     "metadata": {},
     "output_type": "execute_result"
    }
   ],
   "source": [
    "df.duplicated().sum()"
   ]
  },
  {
   "cell_type": "code",
   "execution_count": 56,
   "id": "9de3ceaa-af9a-47bd-bfb5-4aa0ba7e48cc",
   "metadata": {},
   "outputs": [
    {
     "data": {
      "text/html": [
       "<div>\n",
       "<style scoped>\n",
       "    .dataframe tbody tr th:only-of-type {\n",
       "        vertical-align: middle;\n",
       "    }\n",
       "\n",
       "    .dataframe tbody tr th {\n",
       "        vertical-align: top;\n",
       "    }\n",
       "\n",
       "    .dataframe thead th {\n",
       "        text-align: right;\n",
       "    }\n",
       "</style>\n",
       "<table border=\"1\" class=\"dataframe\">\n",
       "  <thead>\n",
       "    <tr style=\"text-align: right;\">\n",
       "      <th></th>\n",
       "      <th>ID</th>\n",
       "      <th>Source</th>\n",
       "      <th>TMC</th>\n",
       "      <th>Severity</th>\n",
       "      <th>Start_Time</th>\n",
       "      <th>End_Time</th>\n",
       "      <th>Start_Lat</th>\n",
       "      <th>Start_Lng</th>\n",
       "      <th>End_Lat</th>\n",
       "      <th>End_Lng</th>\n",
       "      <th>...</th>\n",
       "      <th>Roundabout</th>\n",
       "      <th>Station</th>\n",
       "      <th>Stop</th>\n",
       "      <th>Traffic_Calming</th>\n",
       "      <th>Traffic_Signal</th>\n",
       "      <th>Turning_Loop</th>\n",
       "      <th>Sunrise_Sunset</th>\n",
       "      <th>Civil_Twilight</th>\n",
       "      <th>Nautical_Twilight</th>\n",
       "      <th>Astronomical_Twilight</th>\n",
       "    </tr>\n",
       "  </thead>\n",
       "  <tbody>\n",
       "    <tr>\n",
       "      <th>567227</th>\n",
       "      <td>A-567235</td>\n",
       "      <td>MapQuest</td>\n",
       "      <td>201.0</td>\n",
       "      <td>2</td>\n",
       "      <td>2020-06-10 04:29:15</td>\n",
       "      <td>2020-06-10 06:03:04</td>\n",
       "      <td>39.836716</td>\n",
       "      <td>-89.254875</td>\n",
       "      <td>NaN</td>\n",
       "      <td>NaN</td>\n",
       "      <td>...</td>\n",
       "      <td>False</td>\n",
       "      <td>False</td>\n",
       "      <td>False</td>\n",
       "      <td>False</td>\n",
       "      <td>False</td>\n",
       "      <td>False</td>\n",
       "      <td>Night</td>\n",
       "      <td>Night</td>\n",
       "      <td>Day</td>\n",
       "      <td>Day</td>\n",
       "    </tr>\n",
       "    <tr>\n",
       "      <th>567228</th>\n",
       "      <td>A-567236</td>\n",
       "      <td>MapQuest</td>\n",
       "      <td>201.0</td>\n",
       "      <td>2</td>\n",
       "      <td>2020-06-10 07:40:51</td>\n",
       "      <td>2020-06-10 09:58:42</td>\n",
       "      <td>39.836716</td>\n",
       "      <td>-89.254875</td>\n",
       "      <td>NaN</td>\n",
       "      <td>NaN</td>\n",
       "      <td>...</td>\n",
       "      <td>False</td>\n",
       "      <td>False</td>\n",
       "      <td>False</td>\n",
       "      <td>False</td>\n",
       "      <td>False</td>\n",
       "      <td>False</td>\n",
       "      <td>Day</td>\n",
       "      <td>Day</td>\n",
       "      <td>Day</td>\n",
       "      <td>Day</td>\n",
       "    </tr>\n",
       "    <tr>\n",
       "      <th>1006732</th>\n",
       "      <td>A-1006758</td>\n",
       "      <td>MapQuest</td>\n",
       "      <td>201.0</td>\n",
       "      <td>3</td>\n",
       "      <td>2019-08-29 12:41:01</td>\n",
       "      <td>2019-08-29 17:10:37</td>\n",
       "      <td>39.836716</td>\n",
       "      <td>-89.254875</td>\n",
       "      <td>NaN</td>\n",
       "      <td>NaN</td>\n",
       "      <td>...</td>\n",
       "      <td>False</td>\n",
       "      <td>False</td>\n",
       "      <td>False</td>\n",
       "      <td>False</td>\n",
       "      <td>False</td>\n",
       "      <td>False</td>\n",
       "      <td>Day</td>\n",
       "      <td>Day</td>\n",
       "      <td>Day</td>\n",
       "      <td>Day</td>\n",
       "    </tr>\n",
       "  </tbody>\n",
       "</table>\n",
       "<p>3 rows × 49 columns</p>\n",
       "</div>"
      ],
      "text/plain": [
       "                ID    Source    TMC  Severity           Start_Time  \\\n",
       "567227    A-567235  MapQuest  201.0         2  2020-06-10 04:29:15   \n",
       "567228    A-567236  MapQuest  201.0         2  2020-06-10 07:40:51   \n",
       "1006732  A-1006758  MapQuest  201.0         3  2019-08-29 12:41:01   \n",
       "\n",
       "                    End_Time  Start_Lat  Start_Lng  End_Lat  End_Lng  ...  \\\n",
       "567227   2020-06-10 06:03:04  39.836716 -89.254875      NaN      NaN  ...   \n",
       "567228   2020-06-10 09:58:42  39.836716 -89.254875      NaN      NaN  ...   \n",
       "1006732  2019-08-29 17:10:37  39.836716 -89.254875      NaN      NaN  ...   \n",
       "\n",
       "         Roundabout Station   Stop Traffic_Calming Traffic_Signal  \\\n",
       "567227        False   False  False           False          False   \n",
       "567228        False   False  False           False          False   \n",
       "1006732       False   False  False           False          False   \n",
       "\n",
       "        Turning_Loop Sunrise_Sunset Civil_Twilight Nautical_Twilight  \\\n",
       "567227         False          Night          Night               Day   \n",
       "567228         False            Day            Day               Day   \n",
       "1006732        False            Day            Day               Day   \n",
       "\n",
       "        Astronomical_Twilight  \n",
       "567227                    Day  \n",
       "567228                    Day  \n",
       "1006732                   Day  \n",
       "\n",
       "[3 rows x 49 columns]"
      ]
     },
     "execution_count": 56,
     "metadata": {},
     "output_type": "execute_result"
    }
   ],
   "source": [
    "df[(df['Start_Lat'] == 39.836716) & (df['Start_Lng'] == -89.254875)]"
   ]
  },
  {
   "cell_type": "code",
   "execution_count": null,
   "id": "9ca53227-c567-499b-ad8d-c97ba17af1ce",
   "metadata": {},
   "outputs": [],
   "source": []
  }
 ],
 "metadata": {
  "kernelspec": {
   "display_name": "Python 3 (ipykernel)",
   "language": "python",
   "name": "python3"
  },
  "language_info": {
   "codemirror_mode": {
    "name": "ipython",
    "version": 3
   },
   "file_extension": ".py",
   "mimetype": "text/x-python",
   "name": "python",
   "nbconvert_exporter": "python",
   "pygments_lexer": "ipython3",
   "version": "3.10.8"
  }
 },
 "nbformat": 4,
 "nbformat_minor": 5
}
