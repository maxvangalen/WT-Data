{
 "cells": [
  {
   "cell_type": "code",
   "execution_count": 1,
   "id": "8493958e-a102-4c8e-a705-18bfa5324439",
   "metadata": {},
   "outputs": [],
   "source": [
    "import pandas as pd\n",
    "import numpy as np\n",
    "import seaborn as sb\n",
    "import matplotlib.pyplot as plt"
   ]
  },
  {
   "cell_type": "code",
   "execution_count": 2,
   "id": "89da2c93-286b-481f-a3f4-773b3e77f3ca",
   "metadata": {},
   "outputs": [],
   "source": [
    "start_date = '2016'\n",
    "end_date = '2018'"
   ]
  },
  {
   "cell_type": "markdown",
   "id": "efdb4b64-7f41-4140-be75-2c1a5ad67dfa",
   "metadata": {},
   "source": [
    "### Weather ds"
   ]
  },
  {
   "cell_type": "code",
   "execution_count": 3,
   "id": "500707e3-aba2-452f-a0d6-507e50abbe1e",
   "metadata": {},
   "outputs": [],
   "source": [
    "weatherdf = pd.read_csv('WeatherEvents_Jan2016-Dec2021.csv')"
   ]
  },
  {
   "cell_type": "code",
   "execution_count": 4,
   "id": "6cb062be-9228-4988-9012-4b35ed9fd9c7",
   "metadata": {},
   "outputs": [
    {
     "data": {
      "text/html": [
       "<div>\n",
       "<style scoped>\n",
       "    .dataframe tbody tr th:only-of-type {\n",
       "        vertical-align: middle;\n",
       "    }\n",
       "\n",
       "    .dataframe tbody tr th {\n",
       "        vertical-align: top;\n",
       "    }\n",
       "\n",
       "    .dataframe thead th {\n",
       "        text-align: right;\n",
       "    }\n",
       "</style>\n",
       "<table border=\"1\" class=\"dataframe\">\n",
       "  <thead>\n",
       "    <tr style=\"text-align: right;\">\n",
       "      <th></th>\n",
       "      <th>EventId</th>\n",
       "      <th>Type</th>\n",
       "      <th>Severity</th>\n",
       "      <th>StartTime(UTC)</th>\n",
       "      <th>EndTime(UTC)</th>\n",
       "      <th>Precipitation(in)</th>\n",
       "      <th>TimeZone</th>\n",
       "      <th>AirportCode</th>\n",
       "      <th>LocationLat</th>\n",
       "      <th>LocationLng</th>\n",
       "      <th>City</th>\n",
       "      <th>County</th>\n",
       "      <th>State</th>\n",
       "      <th>ZipCode</th>\n",
       "    </tr>\n",
       "  </thead>\n",
       "  <tbody>\n",
       "    <tr>\n",
       "      <th>0</th>\n",
       "      <td>W-1</td>\n",
       "      <td>Snow</td>\n",
       "      <td>Light</td>\n",
       "      <td>2016-01-06 23:14:00</td>\n",
       "      <td>2016-01-07 00:34:00</td>\n",
       "      <td>0.0</td>\n",
       "      <td>US/Mountain</td>\n",
       "      <td>K04V</td>\n",
       "      <td>38.0972</td>\n",
       "      <td>-106.1689</td>\n",
       "      <td>Saguache</td>\n",
       "      <td>Saguache</td>\n",
       "      <td>CO</td>\n",
       "      <td>81149.0</td>\n",
       "    </tr>\n",
       "    <tr>\n",
       "      <th>1</th>\n",
       "      <td>W-2</td>\n",
       "      <td>Snow</td>\n",
       "      <td>Light</td>\n",
       "      <td>2016-01-07 04:14:00</td>\n",
       "      <td>2016-01-07 04:54:00</td>\n",
       "      <td>0.0</td>\n",
       "      <td>US/Mountain</td>\n",
       "      <td>K04V</td>\n",
       "      <td>38.0972</td>\n",
       "      <td>-106.1689</td>\n",
       "      <td>Saguache</td>\n",
       "      <td>Saguache</td>\n",
       "      <td>CO</td>\n",
       "      <td>81149.0</td>\n",
       "    </tr>\n",
       "  </tbody>\n",
       "</table>\n",
       "</div>"
      ],
      "text/plain": [
       "  EventId  Type Severity       StartTime(UTC)         EndTime(UTC)  \\\n",
       "0     W-1  Snow    Light  2016-01-06 23:14:00  2016-01-07 00:34:00   \n",
       "1     W-2  Snow    Light  2016-01-07 04:14:00  2016-01-07 04:54:00   \n",
       "\n",
       "   Precipitation(in)     TimeZone AirportCode  LocationLat  LocationLng  \\\n",
       "0                0.0  US/Mountain        K04V      38.0972    -106.1689   \n",
       "1                0.0  US/Mountain        K04V      38.0972    -106.1689   \n",
       "\n",
       "       City    County State  ZipCode  \n",
       "0  Saguache  Saguache    CO  81149.0  \n",
       "1  Saguache  Saguache    CO  81149.0  "
      ]
     },
     "execution_count": 4,
     "metadata": {},
     "output_type": "execute_result"
    }
   ],
   "source": [
    "weatherdf.head(2)"
   ]
  },
  {
   "cell_type": "code",
   "execution_count": 5,
   "id": "344fbf42-43b5-4e86-9c39-36bd7624201b",
   "metadata": {},
   "outputs": [],
   "source": [
    "mask = (weatherdf['StartTime(UTC)'] > start_date) & (weatherdf['StartTime(UTC)'] <= end_date)\n",
    "weatherdf = weatherdf.loc[mask]"
   ]
  },
  {
   "cell_type": "code",
   "execution_count": 6,
   "id": "8ccf4941-60af-47c0-9f1d-bbdd90fe7c89",
   "metadata": {},
   "outputs": [],
   "source": [
    "weatherdf['Month'] = pd.DatetimeIndex(weatherdf['StartTime(UTC)']).month_name()"
   ]
  },
  {
   "cell_type": "code",
   "execution_count": 7,
   "id": "7dc4b179-e7eb-4f1a-8602-e149ec811bf1",
   "metadata": {},
   "outputs": [],
   "source": [
    "weatherdf = weatherdf.groupby('Month', as_index = False)['Precipitation(in)'].sum()"
   ]
  },
  {
   "cell_type": "code",
   "execution_count": 8,
   "id": "ef016708-c792-4c01-9064-78fdd71dbe87",
   "metadata": {},
   "outputs": [],
   "source": [
    "weatherdf=weatherdf.rename(columns = {'Precipitation(in)':'Precipitation'})"
   ]
  },
  {
   "cell_type": "code",
   "execution_count": 32,
   "id": "ce70ea72-2bf7-48e0-958b-430a2eb15445",
   "metadata": {},
   "outputs": [
    {
     "data": {
      "text/html": [
       "<div>\n",
       "<style scoped>\n",
       "    .dataframe tbody tr th:only-of-type {\n",
       "        vertical-align: middle;\n",
       "    }\n",
       "\n",
       "    .dataframe tbody tr th {\n",
       "        vertical-align: top;\n",
       "    }\n",
       "\n",
       "    .dataframe thead th {\n",
       "        text-align: right;\n",
       "    }\n",
       "</style>\n",
       "<table border=\"1\" class=\"dataframe\">\n",
       "  <thead>\n",
       "    <tr style=\"text-align: right;\">\n",
       "      <th></th>\n",
       "      <th>Month</th>\n",
       "      <th>Precipitation</th>\n",
       "    </tr>\n",
       "  </thead>\n",
       "  <tbody>\n",
       "    <tr>\n",
       "      <th>0</th>\n",
       "      <td>April</td>\n",
       "      <td>25595.16</td>\n",
       "    </tr>\n",
       "    <tr>\n",
       "      <th>1</th>\n",
       "      <td>August</td>\n",
       "      <td>28942.84</td>\n",
       "    </tr>\n",
       "    <tr>\n",
       "      <th>2</th>\n",
       "      <td>December</td>\n",
       "      <td>18506.39</td>\n",
       "    </tr>\n",
       "    <tr>\n",
       "      <th>3</th>\n",
       "      <td>February</td>\n",
       "      <td>14756.89</td>\n",
       "    </tr>\n",
       "    <tr>\n",
       "      <th>4</th>\n",
       "      <td>January</td>\n",
       "      <td>23398.14</td>\n",
       "    </tr>\n",
       "    <tr>\n",
       "      <th>5</th>\n",
       "      <td>July</td>\n",
       "      <td>26699.05</td>\n",
       "    </tr>\n",
       "    <tr>\n",
       "      <th>6</th>\n",
       "      <td>June</td>\n",
       "      <td>26542.57</td>\n",
       "    </tr>\n",
       "    <tr>\n",
       "      <th>7</th>\n",
       "      <td>March</td>\n",
       "      <td>21972.40</td>\n",
       "    </tr>\n",
       "    <tr>\n",
       "      <th>8</th>\n",
       "      <td>May</td>\n",
       "      <td>27319.81</td>\n",
       "    </tr>\n",
       "    <tr>\n",
       "      <th>9</th>\n",
       "      <td>November</td>\n",
       "      <td>14435.62</td>\n",
       "    </tr>\n",
       "    <tr>\n",
       "      <th>10</th>\n",
       "      <td>October</td>\n",
       "      <td>23223.23</td>\n",
       "    </tr>\n",
       "    <tr>\n",
       "      <th>11</th>\n",
       "      <td>September</td>\n",
       "      <td>21351.77</td>\n",
       "    </tr>\n",
       "  </tbody>\n",
       "</table>\n",
       "</div>"
      ],
      "text/plain": [
       "        Month  Precipitation\n",
       "0       April       25595.16\n",
       "1      August       28942.84\n",
       "2    December       18506.39\n",
       "3    February       14756.89\n",
       "4     January       23398.14\n",
       "5        July       26699.05\n",
       "6        June       26542.57\n",
       "7       March       21972.40\n",
       "8         May       27319.81\n",
       "9    November       14435.62\n",
       "10    October       23223.23\n",
       "11  September       21351.77"
      ]
     },
     "execution_count": 32,
     "metadata": {},
     "output_type": "execute_result"
    }
   ],
   "source": [
    "weatherdf.head(12)"
   ]
  },
  {
   "cell_type": "markdown",
   "id": "4362c9e6-e277-4b28-beb3-496a9c9742ca",
   "metadata": {},
   "source": [
    "### Accidents ds"
   ]
  },
  {
   "cell_type": "code",
   "execution_count": 10,
   "id": "0200f50c-9b40-4172-8aff-494e1e1ce7ef",
   "metadata": {},
   "outputs": [],
   "source": [
    "accidentsdf = pd.read_csv('./DATA/US_Accidents_June20_Cleaned.csv')"
   ]
  },
  {
   "cell_type": "code",
   "execution_count": 11,
   "id": "515bd5e9-0c60-4e91-a58b-9948f646764f",
   "metadata": {},
   "outputs": [
    {
     "data": {
      "text/html": [
       "<div>\n",
       "<style scoped>\n",
       "    .dataframe tbody tr th:only-of-type {\n",
       "        vertical-align: middle;\n",
       "    }\n",
       "\n",
       "    .dataframe tbody tr th {\n",
       "        vertical-align: top;\n",
       "    }\n",
       "\n",
       "    .dataframe thead th {\n",
       "        text-align: right;\n",
       "    }\n",
       "</style>\n",
       "<table border=\"1\" class=\"dataframe\">\n",
       "  <thead>\n",
       "    <tr style=\"text-align: right;\">\n",
       "      <th></th>\n",
       "      <th>Unnamed: 0</th>\n",
       "      <th>ID</th>\n",
       "      <th>TMC</th>\n",
       "      <th>Severity</th>\n",
       "      <th>Start_Time</th>\n",
       "      <th>End_Time</th>\n",
       "      <th>Start_Lat</th>\n",
       "      <th>Start_Lng</th>\n",
       "      <th>Distance_mi</th>\n",
       "      <th>Description</th>\n",
       "      <th>...</th>\n",
       "      <th>Traffic_Calming</th>\n",
       "      <th>Traffic_Signal</th>\n",
       "      <th>Sunrise_Sunset</th>\n",
       "      <th>Rain_Bool</th>\n",
       "      <th>Snow_Bool</th>\n",
       "      <th>Thunder_Bool</th>\n",
       "      <th>Wind_Bool</th>\n",
       "      <th>Fog_Bool</th>\n",
       "      <th>Hail_Bool</th>\n",
       "      <th>Sand_Dust_Bool</th>\n",
       "    </tr>\n",
       "  </thead>\n",
       "  <tbody>\n",
       "    <tr>\n",
       "      <th>0</th>\n",
       "      <td>0</td>\n",
       "      <td>A-1</td>\n",
       "      <td>201.0</td>\n",
       "      <td>3</td>\n",
       "      <td>2016-02-08 05:46:00</td>\n",
       "      <td>2016-02-08 11:00:00</td>\n",
       "      <td>39.865147</td>\n",
       "      <td>-84.058723</td>\n",
       "      <td>0.01</td>\n",
       "      <td>Right lane blocked due to accident on I-70 Eas...</td>\n",
       "      <td>...</td>\n",
       "      <td>False</td>\n",
       "      <td>False</td>\n",
       "      <td>1.0</td>\n",
       "      <td>True</td>\n",
       "      <td>False</td>\n",
       "      <td>False</td>\n",
       "      <td>False</td>\n",
       "      <td>False</td>\n",
       "      <td>False</td>\n",
       "      <td>False</td>\n",
       "    </tr>\n",
       "    <tr>\n",
       "      <th>1</th>\n",
       "      <td>1</td>\n",
       "      <td>A-2</td>\n",
       "      <td>201.0</td>\n",
       "      <td>2</td>\n",
       "      <td>2016-02-08 06:07:59</td>\n",
       "      <td>2016-02-08 06:37:59</td>\n",
       "      <td>39.928059</td>\n",
       "      <td>-82.831184</td>\n",
       "      <td>0.01</td>\n",
       "      <td>Accident on Brice Rd at Tussing Rd. Expect del...</td>\n",
       "      <td>...</td>\n",
       "      <td>False</td>\n",
       "      <td>False</td>\n",
       "      <td>1.0</td>\n",
       "      <td>True</td>\n",
       "      <td>False</td>\n",
       "      <td>False</td>\n",
       "      <td>False</td>\n",
       "      <td>False</td>\n",
       "      <td>False</td>\n",
       "      <td>False</td>\n",
       "    </tr>\n",
       "  </tbody>\n",
       "</table>\n",
       "<p>2 rows × 48 columns</p>\n",
       "</div>"
      ],
      "text/plain": [
       "   Unnamed: 0   ID    TMC  Severity           Start_Time             End_Time  \\\n",
       "0           0  A-1  201.0         3  2016-02-08 05:46:00  2016-02-08 11:00:00   \n",
       "1           1  A-2  201.0         2  2016-02-08 06:07:59  2016-02-08 06:37:59   \n",
       "\n",
       "   Start_Lat  Start_Lng  Distance_mi  \\\n",
       "0  39.865147 -84.058723         0.01   \n",
       "1  39.928059 -82.831184         0.01   \n",
       "\n",
       "                                         Description  ... Traffic_Calming  \\\n",
       "0  Right lane blocked due to accident on I-70 Eas...  ...           False   \n",
       "1  Accident on Brice Rd at Tussing Rd. Expect del...  ...           False   \n",
       "\n",
       "  Traffic_Signal Sunrise_Sunset Rain_Bool Snow_Bool Thunder_Bool Wind_Bool  \\\n",
       "0          False            1.0      True     False        False     False   \n",
       "1          False            1.0      True     False        False     False   \n",
       "\n",
       "  Fog_Bool Hail_Bool Sand_Dust_Bool  \n",
       "0    False     False          False  \n",
       "1    False     False          False  \n",
       "\n",
       "[2 rows x 48 columns]"
      ]
     },
     "execution_count": 11,
     "metadata": {},
     "output_type": "execute_result"
    }
   ],
   "source": [
    "accidentsdf.head(2)"
   ]
  },
  {
   "cell_type": "code",
   "execution_count": 12,
   "id": "3a0ed8dd-b4a6-40db-a93e-27f60a843abc",
   "metadata": {},
   "outputs": [],
   "source": [
    "mask = (accidentsdf['Start_Time'] > start_date) & (accidentsdf['Start_Time'] <= end_date)\n",
    "accidentsdf = accidentsdf.loc[mask]"
   ]
  },
  {
   "cell_type": "code",
   "execution_count": 13,
   "id": "96c9ccc7-9fd3-42ea-9ea7-d64d1e1a0562",
   "metadata": {},
   "outputs": [],
   "source": [
    "accidentsdf['Month'] = pd.DatetimeIndex(accidentsdf['Start_Time']).month_name()"
   ]
  },
  {
   "cell_type": "code",
   "execution_count": 14,
   "id": "31cb56d8-8ca0-4915-b385-9f559f8202fa",
   "metadata": {},
   "outputs": [],
   "source": [
    "accidentsdf = accidentsdf.groupby('Month', as_index = False)['ID'].size()"
   ]
  },
  {
   "cell_type": "code",
   "execution_count": 15,
   "id": "0c2af635-1e68-43de-be1e-fcb873533801",
   "metadata": {},
   "outputs": [],
   "source": [
    "accidentsdf=accidentsdf.rename(columns = {'size':'No_accidents'})"
   ]
  },
  {
   "cell_type": "code",
   "execution_count": 31,
   "id": "8c2f052d-6246-4646-9ca5-73d3bd4df98b",
   "metadata": {},
   "outputs": [
    {
     "data": {
      "text/html": [
       "<div>\n",
       "<style scoped>\n",
       "    .dataframe tbody tr th:only-of-type {\n",
       "        vertical-align: middle;\n",
       "    }\n",
       "\n",
       "    .dataframe tbody tr th {\n",
       "        vertical-align: top;\n",
       "    }\n",
       "\n",
       "    .dataframe thead th {\n",
       "        text-align: right;\n",
       "    }\n",
       "</style>\n",
       "<table border=\"1\" class=\"dataframe\">\n",
       "  <thead>\n",
       "    <tr style=\"text-align: right;\">\n",
       "      <th></th>\n",
       "      <th>Month</th>\n",
       "      <th>No_accidents</th>\n",
       "    </tr>\n",
       "  </thead>\n",
       "  <tbody>\n",
       "    <tr>\n",
       "      <th>0</th>\n",
       "      <td>April</td>\n",
       "      <td>66135</td>\n",
       "    </tr>\n",
       "    <tr>\n",
       "      <th>1</th>\n",
       "      <td>August</td>\n",
       "      <td>137155</td>\n",
       "    </tr>\n",
       "    <tr>\n",
       "      <th>2</th>\n",
       "      <td>December</td>\n",
       "      <td>131014</td>\n",
       "    </tr>\n",
       "    <tr>\n",
       "      <th>3</th>\n",
       "      <td>February</td>\n",
       "      <td>52603</td>\n",
       "    </tr>\n",
       "    <tr>\n",
       "      <th>4</th>\n",
       "      <td>January</td>\n",
       "      <td>55655</td>\n",
       "    </tr>\n",
       "    <tr>\n",
       "      <th>5</th>\n",
       "      <td>July</td>\n",
       "      <td>88922</td>\n",
       "    </tr>\n",
       "    <tr>\n",
       "      <th>6</th>\n",
       "      <td>June</td>\n",
       "      <td>76695</td>\n",
       "    </tr>\n",
       "    <tr>\n",
       "      <th>7</th>\n",
       "      <td>March</td>\n",
       "      <td>63579</td>\n",
       "    </tr>\n",
       "    <tr>\n",
       "      <th>8</th>\n",
       "      <td>May</td>\n",
       "      <td>58691</td>\n",
       "    </tr>\n",
       "    <tr>\n",
       "      <th>9</th>\n",
       "      <td>November</td>\n",
       "      <td>134963</td>\n",
       "    </tr>\n",
       "    <tr>\n",
       "      <th>10</th>\n",
       "      <td>October</td>\n",
       "      <td>130431</td>\n",
       "    </tr>\n",
       "    <tr>\n",
       "      <th>11</th>\n",
       "      <td>September</td>\n",
       "      <td>131364</td>\n",
       "    </tr>\n",
       "  </tbody>\n",
       "</table>\n",
       "</div>"
      ],
      "text/plain": [
       "        Month  No_accidents\n",
       "0       April         66135\n",
       "1      August        137155\n",
       "2    December        131014\n",
       "3    February         52603\n",
       "4     January         55655\n",
       "5        July         88922\n",
       "6        June         76695\n",
       "7       March         63579\n",
       "8         May         58691\n",
       "9    November        134963\n",
       "10    October        130431\n",
       "11  September        131364"
      ]
     },
     "execution_count": 31,
     "metadata": {},
     "output_type": "execute_result"
    }
   ],
   "source": [
    "accidentsdf.head(12)"
   ]
  },
  {
   "cell_type": "markdown",
   "id": "5d6d9986-3a5e-4054-8055-8772f3abf190",
   "metadata": {},
   "source": [
    "#### Sum license"
   ]
  },
  {
   "cell_type": "code",
   "execution_count": 17,
   "id": "887211f2-5c3c-4797-bcb1-163cc622b364",
   "metadata": {},
   "outputs": [],
   "source": [
    "licensedf = pd.read_csv('./DATA/license_data.csv')"
   ]
  },
  {
   "cell_type": "code",
   "execution_count": 18,
   "id": "0a8a3675-bf6d-42eb-b68d-a146e48c207f",
   "metadata": {},
   "outputs": [
    {
     "data": {
      "text/html": [
       "<div>\n",
       "<style scoped>\n",
       "    .dataframe tbody tr th:only-of-type {\n",
       "        vertical-align: middle;\n",
       "    }\n",
       "\n",
       "    .dataframe tbody tr th {\n",
       "        vertical-align: top;\n",
       "    }\n",
       "\n",
       "    .dataframe thead th {\n",
       "        text-align: right;\n",
       "    }\n",
       "</style>\n",
       "<table border=\"1\" class=\"dataframe\">\n",
       "  <thead>\n",
       "    <tr style=\"text-align: right;\">\n",
       "      <th></th>\n",
       "      <th>State</th>\n",
       "      <th>Year</th>\n",
       "      <th>Gender</th>\n",
       "      <th>Age</th>\n",
       "      <th>Drivers</th>\n",
       "    </tr>\n",
       "  </thead>\n",
       "  <tbody>\n",
       "    <tr>\n",
       "      <th>0</th>\n",
       "      <td>Alabama</td>\n",
       "      <td>2010</td>\n",
       "      <td>Female</td>\n",
       "      <td>15-</td>\n",
       "      <td>15050</td>\n",
       "    </tr>\n",
       "    <tr>\n",
       "      <th>1</th>\n",
       "      <td>Alabama</td>\n",
       "      <td>2010</td>\n",
       "      <td>Female</td>\n",
       "      <td>16</td>\n",
       "      <td>22814</td>\n",
       "    </tr>\n",
       "    <tr>\n",
       "      <th>2</th>\n",
       "      <td>Alabama</td>\n",
       "      <td>2010</td>\n",
       "      <td>Female</td>\n",
       "      <td>17</td>\n",
       "      <td>25723</td>\n",
       "    </tr>\n",
       "    <tr>\n",
       "      <th>3</th>\n",
       "      <td>Alabama</td>\n",
       "      <td>2010</td>\n",
       "      <td>Female</td>\n",
       "      <td>18</td>\n",
       "      <td>27903</td>\n",
       "    </tr>\n",
       "    <tr>\n",
       "      <th>4</th>\n",
       "      <td>Alabama</td>\n",
       "      <td>2010</td>\n",
       "      <td>Female</td>\n",
       "      <td>19-24</td>\n",
       "      <td>192651</td>\n",
       "    </tr>\n",
       "  </tbody>\n",
       "</table>\n",
       "</div>"
      ],
      "text/plain": [
       "     State  Year  Gender    Age  Drivers\n",
       "0  Alabama  2010  Female    15-    15050\n",
       "1  Alabama  2010  Female     16    22814\n",
       "2  Alabama  2010  Female     17    25723\n",
       "3  Alabama  2010  Female     18    27903\n",
       "4  Alabama  2010  Female  19-24   192651"
      ]
     },
     "execution_count": 18,
     "metadata": {},
     "output_type": "execute_result"
    }
   ],
   "source": [
    "licensedf.head()"
   ]
  },
  {
   "cell_type": "code",
   "execution_count": 19,
   "id": "691a54c6-e59b-4783-8f2d-3d1954d90968",
   "metadata": {},
   "outputs": [],
   "source": [
    "licensedf = licensedf[(licensedf.Year.isin([2016, 2017, 2018]))]"
   ]
  },
  {
   "cell_type": "code",
   "execution_count": 21,
   "id": "1466f6b7-7229-4e08-924b-10381cf8e9f4",
   "metadata": {},
   "outputs": [],
   "source": [
    "tempdf = licensedf.groupby('Year', as_index = False)['Drivers'].sum()"
   ]
  },
  {
   "cell_type": "code",
   "execution_count": 22,
   "id": "5f20b146-728a-4da4-9c7b-c4cbb21654c0",
   "metadata": {},
   "outputs": [
    {
     "data": {
      "text/html": [
       "<div>\n",
       "<style scoped>\n",
       "    .dataframe tbody tr th:only-of-type {\n",
       "        vertical-align: middle;\n",
       "    }\n",
       "\n",
       "    .dataframe tbody tr th {\n",
       "        vertical-align: top;\n",
       "    }\n",
       "\n",
       "    .dataframe thead th {\n",
       "        text-align: right;\n",
       "    }\n",
       "</style>\n",
       "<table border=\"1\" class=\"dataframe\">\n",
       "  <thead>\n",
       "    <tr style=\"text-align: right;\">\n",
       "      <th></th>\n",
       "      <th>Year</th>\n",
       "      <th>Drivers</th>\n",
       "    </tr>\n",
       "  </thead>\n",
       "  <tbody>\n",
       "    <tr>\n",
       "      <th>0</th>\n",
       "      <td>2016</td>\n",
       "      <td>221994424</td>\n",
       "    </tr>\n",
       "    <tr>\n",
       "      <th>1</th>\n",
       "      <td>2017</td>\n",
       "      <td>225346257</td>\n",
       "    </tr>\n",
       "    <tr>\n",
       "      <th>2</th>\n",
       "      <td>2018</td>\n",
       "      <td>226065619</td>\n",
       "    </tr>\n",
       "  </tbody>\n",
       "</table>\n",
       "</div>"
      ],
      "text/plain": [
       "   Year    Drivers\n",
       "0  2016  221994424\n",
       "1  2017  225346257\n",
       "2  2018  226065619"
      ]
     },
     "execution_count": 22,
     "metadata": {},
     "output_type": "execute_result"
    }
   ],
   "source": [
    "tempdf.head()"
   ]
  },
  {
   "cell_type": "code",
   "execution_count": 23,
   "id": "b82bb948-588c-47b7-a54c-9642de13c0ed",
   "metadata": {},
   "outputs": [],
   "source": [
    "totalDrivers = tempdf['Drivers'].sum()"
   ]
  },
  {
   "cell_type": "code",
   "execution_count": 24,
   "id": "7c35712d-cfdc-4408-996f-7c08805f3f85",
   "metadata": {},
   "outputs": [
    {
     "data": {
      "text/plain": [
       "673406300"
      ]
     },
     "execution_count": 24,
     "metadata": {},
     "output_type": "execute_result"
    }
   ],
   "source": [
    "totalDrivers"
   ]
  },
  {
   "cell_type": "markdown",
   "id": "297d08bb-8418-485d-b20c-128b5b727408",
   "metadata": {},
   "source": [
    "### Merge"
   ]
  },
  {
   "cell_type": "code",
   "execution_count": 25,
   "id": "414018d9-dd18-4eb1-a75c-03243bae8a39",
   "metadata": {},
   "outputs": [],
   "source": [
    "acc_wea_dri = pd.merge(weatherdf, accidentsdf, on='Month')"
   ]
  },
  {
   "cell_type": "code",
   "execution_count": 30,
   "id": "c4170b61-eb9d-41ef-9520-eee7c0ad1989",
   "metadata": {},
   "outputs": [
    {
     "data": {
      "text/html": [
       "<div>\n",
       "<style scoped>\n",
       "    .dataframe tbody tr th:only-of-type {\n",
       "        vertical-align: middle;\n",
       "    }\n",
       "\n",
       "    .dataframe tbody tr th {\n",
       "        vertical-align: top;\n",
       "    }\n",
       "\n",
       "    .dataframe thead th {\n",
       "        text-align: right;\n",
       "    }\n",
       "</style>\n",
       "<table border=\"1\" class=\"dataframe\">\n",
       "  <thead>\n",
       "    <tr style=\"text-align: right;\">\n",
       "      <th></th>\n",
       "      <th>Month</th>\n",
       "      <th>Precipitation</th>\n",
       "      <th>No_accidents</th>\n",
       "    </tr>\n",
       "  </thead>\n",
       "  <tbody>\n",
       "    <tr>\n",
       "      <th>0</th>\n",
       "      <td>April</td>\n",
       "      <td>25595.16</td>\n",
       "      <td>66135</td>\n",
       "    </tr>\n",
       "    <tr>\n",
       "      <th>1</th>\n",
       "      <td>August</td>\n",
       "      <td>28942.84</td>\n",
       "      <td>137155</td>\n",
       "    </tr>\n",
       "    <tr>\n",
       "      <th>2</th>\n",
       "      <td>December</td>\n",
       "      <td>18506.39</td>\n",
       "      <td>131014</td>\n",
       "    </tr>\n",
       "    <tr>\n",
       "      <th>3</th>\n",
       "      <td>February</td>\n",
       "      <td>14756.89</td>\n",
       "      <td>52603</td>\n",
       "    </tr>\n",
       "    <tr>\n",
       "      <th>4</th>\n",
       "      <td>January</td>\n",
       "      <td>23398.14</td>\n",
       "      <td>55655</td>\n",
       "    </tr>\n",
       "    <tr>\n",
       "      <th>5</th>\n",
       "      <td>July</td>\n",
       "      <td>26699.05</td>\n",
       "      <td>88922</td>\n",
       "    </tr>\n",
       "    <tr>\n",
       "      <th>6</th>\n",
       "      <td>June</td>\n",
       "      <td>26542.57</td>\n",
       "      <td>76695</td>\n",
       "    </tr>\n",
       "    <tr>\n",
       "      <th>7</th>\n",
       "      <td>March</td>\n",
       "      <td>21972.40</td>\n",
       "      <td>63579</td>\n",
       "    </tr>\n",
       "    <tr>\n",
       "      <th>8</th>\n",
       "      <td>May</td>\n",
       "      <td>27319.81</td>\n",
       "      <td>58691</td>\n",
       "    </tr>\n",
       "    <tr>\n",
       "      <th>9</th>\n",
       "      <td>November</td>\n",
       "      <td>14435.62</td>\n",
       "      <td>134963</td>\n",
       "    </tr>\n",
       "    <tr>\n",
       "      <th>10</th>\n",
       "      <td>October</td>\n",
       "      <td>23223.23</td>\n",
       "      <td>130431</td>\n",
       "    </tr>\n",
       "    <tr>\n",
       "      <th>11</th>\n",
       "      <td>September</td>\n",
       "      <td>21351.77</td>\n",
       "      <td>131364</td>\n",
       "    </tr>\n",
       "  </tbody>\n",
       "</table>\n",
       "</div>"
      ],
      "text/plain": [
       "        Month  Precipitation  No_accidents\n",
       "0       April       25595.16         66135\n",
       "1      August       28942.84        137155\n",
       "2    December       18506.39        131014\n",
       "3    February       14756.89         52603\n",
       "4     January       23398.14         55655\n",
       "5        July       26699.05         88922\n",
       "6        June       26542.57         76695\n",
       "7       March       21972.40         63579\n",
       "8         May       27319.81         58691\n",
       "9    November       14435.62        134963\n",
       "10    October       23223.23        130431\n",
       "11  September       21351.77        131364"
      ]
     },
     "execution_count": 30,
     "metadata": {},
     "output_type": "execute_result"
    }
   ],
   "source": [
    "acc_wea_dri.head(12)"
   ]
  },
  {
   "cell_type": "code",
   "execution_count": 35,
   "id": "6e8190a9-0569-4718-a88c-a0999a668024",
   "metadata": {},
   "outputs": [],
   "source": [
    "acc_wea_dri['acc_per_driver'] = acc_wea_dri['No_accidents']/totalDrivers*100"
   ]
  },
  {
   "cell_type": "code",
   "execution_count": 36,
   "id": "3521096d-d6a3-4ce1-8fcb-8873e1b0a5ca",
   "metadata": {},
   "outputs": [
    {
     "data": {
      "text/html": [
       "<div>\n",
       "<style scoped>\n",
       "    .dataframe tbody tr th:only-of-type {\n",
       "        vertical-align: middle;\n",
       "    }\n",
       "\n",
       "    .dataframe tbody tr th {\n",
       "        vertical-align: top;\n",
       "    }\n",
       "\n",
       "    .dataframe thead th {\n",
       "        text-align: right;\n",
       "    }\n",
       "</style>\n",
       "<table border=\"1\" class=\"dataframe\">\n",
       "  <thead>\n",
       "    <tr style=\"text-align: right;\">\n",
       "      <th></th>\n",
       "      <th>Month</th>\n",
       "      <th>Precipitation</th>\n",
       "      <th>No_accidents</th>\n",
       "      <th>acc_per_driver</th>\n",
       "    </tr>\n",
       "  </thead>\n",
       "  <tbody>\n",
       "    <tr>\n",
       "      <th>0</th>\n",
       "      <td>April</td>\n",
       "      <td>25595.16</td>\n",
       "      <td>66135</td>\n",
       "      <td>0.009821</td>\n",
       "    </tr>\n",
       "    <tr>\n",
       "      <th>1</th>\n",
       "      <td>August</td>\n",
       "      <td>28942.84</td>\n",
       "      <td>137155</td>\n",
       "      <td>0.020367</td>\n",
       "    </tr>\n",
       "    <tr>\n",
       "      <th>2</th>\n",
       "      <td>December</td>\n",
       "      <td>18506.39</td>\n",
       "      <td>131014</td>\n",
       "      <td>0.019455</td>\n",
       "    </tr>\n",
       "    <tr>\n",
       "      <th>3</th>\n",
       "      <td>February</td>\n",
       "      <td>14756.89</td>\n",
       "      <td>52603</td>\n",
       "      <td>0.007811</td>\n",
       "    </tr>\n",
       "    <tr>\n",
       "      <th>4</th>\n",
       "      <td>January</td>\n",
       "      <td>23398.14</td>\n",
       "      <td>55655</td>\n",
       "      <td>0.008265</td>\n",
       "    </tr>\n",
       "  </tbody>\n",
       "</table>\n",
       "</div>"
      ],
      "text/plain": [
       "      Month  Precipitation  No_accidents  acc_per_driver\n",
       "0     April       25595.16         66135        0.009821\n",
       "1    August       28942.84        137155        0.020367\n",
       "2  December       18506.39        131014        0.019455\n",
       "3  February       14756.89         52603        0.007811\n",
       "4   January       23398.14         55655        0.008265"
      ]
     },
     "execution_count": 36,
     "metadata": {},
     "output_type": "execute_result"
    }
   ],
   "source": [
    "acc_wea_dri.head()"
   ]
  },
  {
   "cell_type": "code",
   "execution_count": 37,
   "id": "398a14f6-78ea-494e-9c79-6698ee7d4665",
   "metadata": {},
   "outputs": [],
   "source": [
    "acc_wea_dri.to_csv('acc_wea_dri.csv')"
   ]
  },
  {
   "cell_type": "code",
   "execution_count": null,
   "id": "b0a3aa10-a74f-4a75-ba4a-4d1d714d1ba7",
   "metadata": {},
   "outputs": [],
   "source": []
  }
 ],
 "metadata": {
  "kernelspec": {
   "display_name": "Python 3 (ipykernel)",
   "language": "python",
   "name": "python3"
  },
  "language_info": {
   "codemirror_mode": {
    "name": "ipython",
    "version": 3
   },
   "file_extension": ".py",
   "mimetype": "text/x-python",
   "name": "python",
   "nbconvert_exporter": "python",
   "pygments_lexer": "ipython3",
   "version": "3.9.13"
  }
 },
 "nbformat": 4,
 "nbformat_minor": 5
}
