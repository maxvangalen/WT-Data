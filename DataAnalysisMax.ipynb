{
 "cells": [
  {
   "cell_type": "code",
   "execution_count": 28,
   "id": "33219fd3-fcac-4a1e-920a-65e7fd56151a",
   "metadata": {},
   "outputs": [],
   "source": [
    "import pandas as pd\n",
    "df = pd.read_csv('US_Accidents_June20.csv')"
   ]
  },
  {
   "cell_type": "code",
   "execution_count": 29,
   "id": "40212ff5-857c-469b-81a2-1a19305892c1",
   "metadata": {},
   "outputs": [
    {
     "data": {
      "text/html": [
       "<div>\n",
       "<style scoped>\n",
       "    .dataframe tbody tr th:only-of-type {\n",
       "        vertical-align: middle;\n",
       "    }\n",
       "\n",
       "    .dataframe tbody tr th {\n",
       "        vertical-align: top;\n",
       "    }\n",
       "\n",
       "    .dataframe thead th {\n",
       "        text-align: right;\n",
       "    }\n",
       "</style>\n",
       "<table border=\"1\" class=\"dataframe\">\n",
       "  <thead>\n",
       "    <tr style=\"text-align: right;\">\n",
       "      <th></th>\n",
       "      <th>ID</th>\n",
       "      <th>Source</th>\n",
       "      <th>TMC</th>\n",
       "      <th>Severity</th>\n",
       "      <th>Start_Time</th>\n",
       "      <th>End_Time</th>\n",
       "      <th>Start_Lat</th>\n",
       "      <th>Start_Lng</th>\n",
       "      <th>End_Lat</th>\n",
       "      <th>End_Lng</th>\n",
       "      <th>...</th>\n",
       "      <th>Roundabout</th>\n",
       "      <th>Station</th>\n",
       "      <th>Stop</th>\n",
       "      <th>Traffic_Calming</th>\n",
       "      <th>Traffic_Signal</th>\n",
       "      <th>Turning_Loop</th>\n",
       "      <th>Sunrise_Sunset</th>\n",
       "      <th>Civil_Twilight</th>\n",
       "      <th>Nautical_Twilight</th>\n",
       "      <th>Astronomical_Twilight</th>\n",
       "    </tr>\n",
       "  </thead>\n",
       "  <tbody>\n",
       "    <tr>\n",
       "      <th>0</th>\n",
       "      <td>A-1</td>\n",
       "      <td>MapQuest</td>\n",
       "      <td>201.0</td>\n",
       "      <td>3</td>\n",
       "      <td>2016-02-08 05:46:00</td>\n",
       "      <td>2016-02-08 11:00:00</td>\n",
       "      <td>39.865147</td>\n",
       "      <td>-84.058723</td>\n",
       "      <td>NaN</td>\n",
       "      <td>NaN</td>\n",
       "      <td>...</td>\n",
       "      <td>False</td>\n",
       "      <td>False</td>\n",
       "      <td>False</td>\n",
       "      <td>False</td>\n",
       "      <td>False</td>\n",
       "      <td>False</td>\n",
       "      <td>Night</td>\n",
       "      <td>Night</td>\n",
       "      <td>Night</td>\n",
       "      <td>Night</td>\n",
       "    </tr>\n",
       "    <tr>\n",
       "      <th>1</th>\n",
       "      <td>A-2</td>\n",
       "      <td>MapQuest</td>\n",
       "      <td>201.0</td>\n",
       "      <td>2</td>\n",
       "      <td>2016-02-08 06:07:59</td>\n",
       "      <td>2016-02-08 06:37:59</td>\n",
       "      <td>39.928059</td>\n",
       "      <td>-82.831184</td>\n",
       "      <td>NaN</td>\n",
       "      <td>NaN</td>\n",
       "      <td>...</td>\n",
       "      <td>False</td>\n",
       "      <td>False</td>\n",
       "      <td>False</td>\n",
       "      <td>False</td>\n",
       "      <td>False</td>\n",
       "      <td>False</td>\n",
       "      <td>Night</td>\n",
       "      <td>Night</td>\n",
       "      <td>Night</td>\n",
       "      <td>Day</td>\n",
       "    </tr>\n",
       "    <tr>\n",
       "      <th>2</th>\n",
       "      <td>A-3</td>\n",
       "      <td>MapQuest</td>\n",
       "      <td>201.0</td>\n",
       "      <td>2</td>\n",
       "      <td>2016-02-08 06:49:27</td>\n",
       "      <td>2016-02-08 07:19:27</td>\n",
       "      <td>39.063148</td>\n",
       "      <td>-84.032608</td>\n",
       "      <td>NaN</td>\n",
       "      <td>NaN</td>\n",
       "      <td>...</td>\n",
       "      <td>False</td>\n",
       "      <td>False</td>\n",
       "      <td>False</td>\n",
       "      <td>False</td>\n",
       "      <td>True</td>\n",
       "      <td>False</td>\n",
       "      <td>Night</td>\n",
       "      <td>Night</td>\n",
       "      <td>Day</td>\n",
       "      <td>Day</td>\n",
       "    </tr>\n",
       "    <tr>\n",
       "      <th>3</th>\n",
       "      <td>A-4</td>\n",
       "      <td>MapQuest</td>\n",
       "      <td>201.0</td>\n",
       "      <td>3</td>\n",
       "      <td>2016-02-08 07:23:34</td>\n",
       "      <td>2016-02-08 07:53:34</td>\n",
       "      <td>39.747753</td>\n",
       "      <td>-84.205582</td>\n",
       "      <td>NaN</td>\n",
       "      <td>NaN</td>\n",
       "      <td>...</td>\n",
       "      <td>False</td>\n",
       "      <td>False</td>\n",
       "      <td>False</td>\n",
       "      <td>False</td>\n",
       "      <td>False</td>\n",
       "      <td>False</td>\n",
       "      <td>Night</td>\n",
       "      <td>Day</td>\n",
       "      <td>Day</td>\n",
       "      <td>Day</td>\n",
       "    </tr>\n",
       "    <tr>\n",
       "      <th>4</th>\n",
       "      <td>A-5</td>\n",
       "      <td>MapQuest</td>\n",
       "      <td>201.0</td>\n",
       "      <td>2</td>\n",
       "      <td>2016-02-08 07:39:07</td>\n",
       "      <td>2016-02-08 08:09:07</td>\n",
       "      <td>39.627781</td>\n",
       "      <td>-84.188354</td>\n",
       "      <td>NaN</td>\n",
       "      <td>NaN</td>\n",
       "      <td>...</td>\n",
       "      <td>False</td>\n",
       "      <td>False</td>\n",
       "      <td>False</td>\n",
       "      <td>False</td>\n",
       "      <td>True</td>\n",
       "      <td>False</td>\n",
       "      <td>Day</td>\n",
       "      <td>Day</td>\n",
       "      <td>Day</td>\n",
       "      <td>Day</td>\n",
       "    </tr>\n",
       "  </tbody>\n",
       "</table>\n",
       "<p>5 rows × 49 columns</p>\n",
       "</div>"
      ],
      "text/plain": [
       "    ID    Source    TMC  Severity           Start_Time             End_Time  \\\n",
       "0  A-1  MapQuest  201.0         3  2016-02-08 05:46:00  2016-02-08 11:00:00   \n",
       "1  A-2  MapQuest  201.0         2  2016-02-08 06:07:59  2016-02-08 06:37:59   \n",
       "2  A-3  MapQuest  201.0         2  2016-02-08 06:49:27  2016-02-08 07:19:27   \n",
       "3  A-4  MapQuest  201.0         3  2016-02-08 07:23:34  2016-02-08 07:53:34   \n",
       "4  A-5  MapQuest  201.0         2  2016-02-08 07:39:07  2016-02-08 08:09:07   \n",
       "\n",
       "   Start_Lat  Start_Lng  End_Lat  End_Lng  ...  Roundabout Station   Stop  \\\n",
       "0  39.865147 -84.058723      NaN      NaN  ...       False   False  False   \n",
       "1  39.928059 -82.831184      NaN      NaN  ...       False   False  False   \n",
       "2  39.063148 -84.032608      NaN      NaN  ...       False   False  False   \n",
       "3  39.747753 -84.205582      NaN      NaN  ...       False   False  False   \n",
       "4  39.627781 -84.188354      NaN      NaN  ...       False   False  False   \n",
       "\n",
       "  Traffic_Calming Traffic_Signal Turning_Loop Sunrise_Sunset Civil_Twilight  \\\n",
       "0           False          False        False          Night          Night   \n",
       "1           False          False        False          Night          Night   \n",
       "2           False           True        False          Night          Night   \n",
       "3           False          False        False          Night            Day   \n",
       "4           False           True        False            Day            Day   \n",
       "\n",
       "  Nautical_Twilight Astronomical_Twilight  \n",
       "0             Night                 Night  \n",
       "1             Night                   Day  \n",
       "2               Day                   Day  \n",
       "3               Day                   Day  \n",
       "4               Day                   Day  \n",
       "\n",
       "[5 rows x 49 columns]"
      ]
     },
     "execution_count": 29,
     "metadata": {},
     "output_type": "execute_result"
    }
   ],
   "source": [
    "df.head(5)"
   ]
  },
  {
   "cell_type": "code",
   "execution_count": 30,
   "id": "3bb92231-bbe0-4e2b-b120-516a0646a64c",
   "metadata": {},
   "outputs": [
    {
     "data": {
      "text/html": [
       "<div>\n",
       "<style scoped>\n",
       "    .dataframe tbody tr th:only-of-type {\n",
       "        vertical-align: middle;\n",
       "    }\n",
       "\n",
       "    .dataframe tbody tr th {\n",
       "        vertical-align: top;\n",
       "    }\n",
       "\n",
       "    .dataframe thead th {\n",
       "        text-align: right;\n",
       "    }\n",
       "</style>\n",
       "<table border=\"1\" class=\"dataframe\">\n",
       "  <thead>\n",
       "    <tr style=\"text-align: right;\">\n",
       "      <th></th>\n",
       "      <th>ID</th>\n",
       "      <th>TMC</th>\n",
       "      <th>Severity</th>\n",
       "      <th>Start_Time</th>\n",
       "      <th>End_Time</th>\n",
       "      <th>Start_Lat</th>\n",
       "      <th>Start_Lng</th>\n",
       "      <th>Distance(mi)</th>\n",
       "      <th>Description</th>\n",
       "      <th>Number</th>\n",
       "      <th>...</th>\n",
       "      <th>Roundabout</th>\n",
       "      <th>Station</th>\n",
       "      <th>Stop</th>\n",
       "      <th>Traffic_Calming</th>\n",
       "      <th>Traffic_Signal</th>\n",
       "      <th>Turning_Loop</th>\n",
       "      <th>Sunrise_Sunset</th>\n",
       "      <th>Civil_Twilight</th>\n",
       "      <th>Nautical_Twilight</th>\n",
       "      <th>Astronomical_Twilight</th>\n",
       "    </tr>\n",
       "  </thead>\n",
       "  <tbody>\n",
       "    <tr>\n",
       "      <th>0</th>\n",
       "      <td>A-1</td>\n",
       "      <td>201.0</td>\n",
       "      <td>3</td>\n",
       "      <td>2016-02-08 05:46:00</td>\n",
       "      <td>2016-02-08 11:00:00</td>\n",
       "      <td>39.865147</td>\n",
       "      <td>-84.058723</td>\n",
       "      <td>0.01</td>\n",
       "      <td>Right lane blocked due to accident on I-70 Eas...</td>\n",
       "      <td>NaN</td>\n",
       "      <td>...</td>\n",
       "      <td>False</td>\n",
       "      <td>False</td>\n",
       "      <td>False</td>\n",
       "      <td>False</td>\n",
       "      <td>False</td>\n",
       "      <td>False</td>\n",
       "      <td>Night</td>\n",
       "      <td>Night</td>\n",
       "      <td>Night</td>\n",
       "      <td>Night</td>\n",
       "    </tr>\n",
       "  </tbody>\n",
       "</table>\n",
       "<p>1 rows × 46 columns</p>\n",
       "</div>"
      ],
      "text/plain": [
       "    ID    TMC  Severity           Start_Time             End_Time  Start_Lat  \\\n",
       "0  A-1  201.0         3  2016-02-08 05:46:00  2016-02-08 11:00:00  39.865147   \n",
       "\n",
       "   Start_Lng  Distance(mi)                                        Description  \\\n",
       "0 -84.058723          0.01  Right lane blocked due to accident on I-70 Eas...   \n",
       "\n",
       "   Number  ... Roundabout Station   Stop Traffic_Calming Traffic_Signal  \\\n",
       "0     NaN  ...      False   False  False           False          False   \n",
       "\n",
       "  Turning_Loop Sunrise_Sunset Civil_Twilight Nautical_Twilight  \\\n",
       "0        False          Night          Night             Night   \n",
       "\n",
       "  Astronomical_Twilight  \n",
       "0                 Night  \n",
       "\n",
       "[1 rows x 46 columns]"
      ]
     },
     "execution_count": 30,
     "metadata": {},
     "output_type": "execute_result"
    }
   ],
   "source": [
    "df.drop(columns=['Source', 'End_Lat', 'End_Lng']).head(1)"
   ]
  },
  {
   "cell_type": "markdown",
   "id": "b43645a2-cb55-4f9b-9f70-d88353fb02d9",
   "metadata": {},
   "source": [
    "Columns with >10% nan values"
   ]
  },
  {
   "cell_type": "code",
   "execution_count": 31,
   "id": "4502a6cf-8094-4686-82e0-eb7ef3903795",
   "metadata": {},
   "outputs": [],
   "source": [
    "df.rename(columns={'Precipitation(in)': 'Precipitation_in', 'Wind_Chill(F)': 'Wind_Chill_f', 'Wind_Speed(mph)': 'Wind_Speed_mph', 'Visibility(mi)': 'Visibility_mi', 'Humidity(%)': 'Humidity_%', 'Temperature(F)': 'Temperature_f', 'Pressure(in)': 'Pressure_in', 'Distance(mi)': 'Distance_mi'}, inplace=True)"
   ]
  },
  {
   "cell_type": "code",
   "execution_count": 32,
   "id": "1417d46f-a4ce-43b8-b121-94533917034a",
   "metadata": {},
   "outputs": [
    {
     "data": {
      "text/plain": [
       "End_Lng                  70.548896\n",
       "End_Lat                  70.548896\n",
       "Number                   64.402694\n",
       "Precipitation_in         57.657793\n",
       "Wind_Chill_f             53.171675\n",
       "TMC                      29.451104\n",
       "Wind_Speed_mph           12.938490\n",
       "Weather_Condition         2.166941\n",
       "Visibility_mi             2.158915\n",
       "Humidity_%                1.983341\n",
       "Temperature_f             1.870779\n",
       "Wind_Direction            1.675595\n",
       "Pressure_in               1.590441\n",
       "Weather_Timestamp         1.233003\n",
       "Airport_Code              0.192337\n",
       "Timezone                  0.110428\n",
       "Zipcode                   0.030424\n",
       "Sunrise_Sunset            0.003273\n",
       "Civil_Twilight            0.003273\n",
       "Nautical_Twilight         0.003273\n",
       "Astronomical_Twilight     0.003273\n",
       "City                      0.003188\n",
       "Description               0.000028\n",
       "Country                   0.000000\n",
       "Junction                  0.000000\n",
       "Severity                  0.000000\n",
       "Start_Time                0.000000\n",
       "End_Time                  0.000000\n",
       "Turning_Loop              0.000000\n",
       "Traffic_Signal            0.000000\n",
       "Traffic_Calming           0.000000\n",
       "Stop                      0.000000\n",
       "Station                   0.000000\n",
       "Roundabout                0.000000\n",
       "Railway                   0.000000\n",
       "No_Exit                   0.000000\n",
       "Give_Way                  0.000000\n",
       "State                     0.000000\n",
       "Crossing                  0.000000\n",
       "Bump                      0.000000\n",
       "Amenity                   0.000000\n",
       "Start_Lat                 0.000000\n",
       "Start_Lng                 0.000000\n",
       "Distance_mi               0.000000\n",
       "Street                    0.000000\n",
       "Side                      0.000000\n",
       "Source                    0.000000\n",
       "County                    0.000000\n",
       "ID                        0.000000\n",
       "dtype: float64"
      ]
     },
     "execution_count": 32,
     "metadata": {},
     "output_type": "execute_result"
    }
   ],
   "source": [
    "nandf = df.isna().sum() / len(df) * 100\n",
    "nandf.sort_values(ascending=False)"
   ]
  },
  {
   "cell_type": "code",
   "execution_count": 33,
   "id": "bf747235-1148-49bb-894e-84df166cd37c",
   "metadata": {},
   "outputs": [
    {
     "data": {
      "text/plain": [
       "ID                        object\n",
       "Source                    object\n",
       "TMC                      float64\n",
       "Severity                   int64\n",
       "Start_Time                object\n",
       "End_Time                  object\n",
       "Start_Lat                float64\n",
       "Start_Lng                float64\n",
       "End_Lat                  float64\n",
       "End_Lng                  float64\n",
       "Distance_mi              float64\n",
       "Description               object\n",
       "Number                   float64\n",
       "Street                    object\n",
       "Side                      object\n",
       "City                      object\n",
       "County                    object\n",
       "State                     object\n",
       "Zipcode                   object\n",
       "Country                   object\n",
       "Timezone                  object\n",
       "Airport_Code              object\n",
       "Weather_Timestamp         object\n",
       "Temperature_f            float64\n",
       "Wind_Chill_f             float64\n",
       "Humidity_%               float64\n",
       "Pressure_in              float64\n",
       "Visibility_mi            float64\n",
       "Wind_Direction            object\n",
       "Wind_Speed_mph           float64\n",
       "Precipitation_in         float64\n",
       "Weather_Condition         object\n",
       "Amenity                     bool\n",
       "Bump                        bool\n",
       "Crossing                    bool\n",
       "Give_Way                    bool\n",
       "Junction                    bool\n",
       "No_Exit                     bool\n",
       "Railway                     bool\n",
       "Roundabout                  bool\n",
       "Station                     bool\n",
       "Stop                        bool\n",
       "Traffic_Calming             bool\n",
       "Traffic_Signal              bool\n",
       "Turning_Loop                bool\n",
       "Sunrise_Sunset            object\n",
       "Civil_Twilight            object\n",
       "Nautical_Twilight         object\n",
       "Astronomical_Twilight     object\n",
       "dtype: object"
      ]
     },
     "execution_count": 33,
     "metadata": {},
     "output_type": "execute_result"
    }
   ],
   "source": [
    "df.dtypes"
   ]
  },
  {
   "attachments": {
    "96cf31bd-93c3-4e0d-8506-d97644798805.png": {
     "image/png": "[encoded data removed]"
    }
   },
   "cell_type": "markdown",
   "id": "fd0de08d-87ab-4433-a99a-baabdc5ae1f8",
   "metadata": {},
   "source": [
    "![image.png](attachment:96cf31bd-93c3-4e0d-8506-d97644798805.png)"
   ]
  },
  {
   "cell_type": "code",
   "execution_count": 34,
   "id": "21132825-e2a5-4973-b470-d3dc326a182f",
   "metadata": {},
   "outputs": [
    {
     "data": {
      "text/html": [
       "<div>\n",
       "<style scoped>\n",
       "    .dataframe tbody tr th:only-of-type {\n",
       "        vertical-align: middle;\n",
       "    }\n",
       "\n",
       "    .dataframe tbody tr th {\n",
       "        vertical-align: top;\n",
       "    }\n",
       "\n",
       "    .dataframe thead th {\n",
       "        text-align: right;\n",
       "    }\n",
       "</style>\n",
       "<table border=\"1\" class=\"dataframe\">\n",
       "  <thead>\n",
       "    <tr style=\"text-align: right;\">\n",
       "      <th></th>\n",
       "      <th>Street</th>\n",
       "      <th>Number</th>\n",
       "    </tr>\n",
       "  </thead>\n",
       "  <tbody>\n",
       "    <tr>\n",
       "      <th>0</th>\n",
       "      <td>I-70 E</td>\n",
       "      <td>NaN</td>\n",
       "    </tr>\n",
       "    <tr>\n",
       "      <th>1</th>\n",
       "      <td>Brice Rd</td>\n",
       "      <td>2584.0</td>\n",
       "    </tr>\n",
       "    <tr>\n",
       "      <th>2</th>\n",
       "      <td>State Route 32</td>\n",
       "      <td>NaN</td>\n",
       "    </tr>\n",
       "    <tr>\n",
       "      <th>3</th>\n",
       "      <td>I-75 S</td>\n",
       "      <td>NaN</td>\n",
       "    </tr>\n",
       "    <tr>\n",
       "      <th>4</th>\n",
       "      <td>Miamisburg Centerville Rd</td>\n",
       "      <td>NaN</td>\n",
       "    </tr>\n",
       "    <tr>\n",
       "      <th>...</th>\n",
       "      <td>...</td>\n",
       "      <td>...</td>\n",
       "    </tr>\n",
       "    <tr>\n",
       "      <th>3513612</th>\n",
       "      <td>Pomona Fwy E</td>\n",
       "      <td>NaN</td>\n",
       "    </tr>\n",
       "    <tr>\n",
       "      <th>3513613</th>\n",
       "      <td>I-8 W</td>\n",
       "      <td>NaN</td>\n",
       "    </tr>\n",
       "    <tr>\n",
       "      <th>3513614</th>\n",
       "      <td>Garden Grove Fwy</td>\n",
       "      <td>NaN</td>\n",
       "    </tr>\n",
       "    <tr>\n",
       "      <th>3513615</th>\n",
       "      <td>San Diego Fwy S</td>\n",
       "      <td>NaN</td>\n",
       "    </tr>\n",
       "    <tr>\n",
       "      <th>3513616</th>\n",
       "      <td>CA-210 W</td>\n",
       "      <td>NaN</td>\n",
       "    </tr>\n",
       "  </tbody>\n",
       "</table>\n",
       "<p>3513617 rows × 2 columns</p>\n",
       "</div>"
      ],
      "text/plain": [
       "                            Street  Number\n",
       "0                           I-70 E     NaN\n",
       "1                         Brice Rd  2584.0\n",
       "2                   State Route 32     NaN\n",
       "3                           I-75 S     NaN\n",
       "4        Miamisburg Centerville Rd     NaN\n",
       "...                            ...     ...\n",
       "3513612               Pomona Fwy E     NaN\n",
       "3513613                      I-8 W     NaN\n",
       "3513614           Garden Grove Fwy     NaN\n",
       "3513615            San Diego Fwy S     NaN\n",
       "3513616                   CA-210 W     NaN\n",
       "\n",
       "[3513617 rows x 2 columns]"
      ]
     },
     "execution_count": 34,
     "metadata": {},
     "output_type": "execute_result"
    }
   ],
   "source": [
    "df[['Street','Number']]"
   ]
  },
  {
   "cell_type": "code",
   "execution_count": 35,
   "id": "4eb16eec-597a-4729-878a-5db94e85367a",
   "metadata": {},
   "outputs": [
    {
     "data": {
      "text/plain": [
       "ID                                                                     A-1\n",
       "Source                                                            MapQuest\n",
       "TMC                                                                  201.0\n",
       "Severity                                                                 3\n",
       "Start_Time                                             2016-02-08 05:46:00\n",
       "End_Time                                               2016-02-08 11:00:00\n",
       "Start_Lat                                                        39.865147\n",
       "Start_Lng                                                       -84.058723\n",
       "End_Lat                                                                NaN\n",
       "End_Lng                                                                NaN\n",
       "Distance_mi                                                           0.01\n",
       "Description              Right lane blocked due to accident on I-70 Eas...\n",
       "Number                                                                 NaN\n",
       "Street                                                              I-70 E\n",
       "Side                                                                     R\n",
       "City                                                                Dayton\n",
       "County                                                          Montgomery\n",
       "State                                                                   OH\n",
       "Zipcode                                                              45424\n",
       "Country                                                                 US\n",
       "Timezone                                                        US/Eastern\n",
       "Airport_Code                                                          KFFO\n",
       "Weather_Timestamp                                      2016-02-08 05:58:00\n",
       "Temperature_f                                                         36.9\n",
       "Wind_Chill_f                                                           NaN\n",
       "Humidity_%                                                            91.0\n",
       "Pressure_in                                                          29.68\n",
       "Visibility_mi                                                         10.0\n",
       "Wind_Direction                                                        Calm\n",
       "Wind_Speed_mph                                                         NaN\n",
       "Precipitation_in                                                      0.02\n",
       "Weather_Condition                                               Light Rain\n",
       "Amenity                                                              False\n",
       "Bump                                                                 False\n",
       "Crossing                                                             False\n",
       "Give_Way                                                             False\n",
       "Junction                                                             False\n",
       "No_Exit                                                              False\n",
       "Railway                                                              False\n",
       "Roundabout                                                           False\n",
       "Station                                                              False\n",
       "Stop                                                                 False\n",
       "Traffic_Calming                                                      False\n",
       "Traffic_Signal                                                       False\n",
       "Turning_Loop                                                         False\n",
       "Sunrise_Sunset                                                       Night\n",
       "Civil_Twilight                                                       Night\n",
       "Nautical_Twilight                                                    Night\n",
       "Astronomical_Twilight                                                Night\n",
       "Name: 0, dtype: object"
      ]
     },
     "execution_count": 35,
     "metadata": {},
     "output_type": "execute_result"
    }
   ],
   "source": [
    "df.loc[0]"
   ]
  },
  {
   "cell_type": "markdown",
   "id": "895bb0fd-0193-41df-8a3b-29812f404eb6",
   "metadata": {},
   "source": [
    "Convert 'Day' to 1 and 'Night' to 2"
   ]
  },
  {
   "cell_type": "code",
   "execution_count": 36,
   "id": "09e04126-7c79-431a-a338-5b003e2d6b32",
   "metadata": {},
   "outputs": [],
   "source": [
    "def daynight(x):\n",
    "    if x == 'Day':\n",
    "        return '1'\n",
    "    if x == 'Night':\n",
    "        return '0'\n",
    "    \n",
    "df['Sunrise_Sunset'] = df['Sunrise_Sunset'].apply(daynight)\n",
    "df['Civil_Twilight'] = df['Civil_Twilight'].apply(daynight)\n",
    "df['Nautical_Twilight'] = df['Nautical_Twilight'].apply(daynight)\n",
    "df['Astronomical_Twilight'] = df['Astronomical_Twilight'].apply(daynight)"
   ]
  },
  {
   "cell_type": "markdown",
   "id": "ec6c8e20-763c-4d98-a5f8-220bddabf6e3",
   "metadata": {},
   "source": [
    "Convert Weather_Condition:rain to mm"
   ]
  },
  {
   "cell_type": "code",
   "execution_count": 37,
   "id": "142d3bab-7729-4716-bfb2-3c97411bb382",
   "metadata": {},
   "outputs": [
    {
     "data": {
      "text/plain": [
       "array(['Light Rain', 'Overcast', 'Mostly Cloudy', 'Rain', 'Light Snow',\n",
       "       'Haze', 'Scattered Clouds', 'Partly Cloudy', 'Clear', 'Snow',\n",
       "       'Light Freezing Drizzle', 'Light Drizzle', 'Fog', 'Shallow Fog',\n",
       "       'Heavy Rain', 'Light Freezing Rain', 'Cloudy', 'Drizzle', nan,\n",
       "       'Light Rain Showers', 'Mist', 'Smoke', 'Patches of Fog',\n",
       "       'Light Freezing Fog', 'Light Haze', 'Light Thunderstorms and Rain',\n",
       "       'Thunderstorms and Rain', 'Fair', 'Volcanic Ash', 'Blowing Sand',\n",
       "       'Blowing Dust / Windy', 'Widespread Dust', 'Fair / Windy',\n",
       "       'Rain Showers', 'Mostly Cloudy / Windy', 'Light Rain / Windy',\n",
       "       'Hail', 'Heavy Drizzle', 'Showers in the Vicinity', 'Thunderstorm',\n",
       "       'Light Rain Shower', 'Light Rain with Thunder',\n",
       "       'Partly Cloudy / Windy', 'Thunder in the Vicinity', 'T-Storm',\n",
       "       'Heavy Thunderstorms and Rain', 'Thunder', 'Heavy T-Storm',\n",
       "       'Funnel Cloud', 'Heavy T-Storm / Windy', 'Blowing Snow',\n",
       "       'Light Thunderstorms and Snow', 'Heavy Snow', 'Low Drifting Snow',\n",
       "       'Light Ice Pellets', 'Ice Pellets', 'Squalls', 'N/A Precipitation',\n",
       "       'Cloudy / Windy', 'Light Fog', 'Sand', 'Snow Grains',\n",
       "       'Snow Showers', 'Heavy Thunderstorms and Snow', 'Rain / Windy',\n",
       "       'Heavy Rain / Windy', 'Heavy Ice Pellets', 'Light Snow / Windy',\n",
       "       'Heavy Freezing Rain', 'Small Hail', 'Heavy Rain Showers',\n",
       "       'T-Storm / Windy', 'Patches of Fog / Windy', 'Drizzle / Windy',\n",
       "       'Thunder / Windy', 'Wintry Mix', 'Squalls / Windy', 'Rain Shower',\n",
       "       'Drizzle and Fog', 'Haze / Windy', 'Sand / Dust Whirlwinds',\n",
       "       'Blowing Dust', 'Fog / Windy', 'Smoke / Windy',\n",
       "       'Wintry Mix / Windy', 'Snow / Windy', 'Light Rain Shower / Windy',\n",
       "       'Heavy Snow / Windy', 'Snow and Sleet',\n",
       "       'Light Freezing Rain / Windy', 'Light Drizzle / Windy',\n",
       "       'Light Snow and Sleet', 'Partial Fog', 'Light Snow Shower',\n",
       "       'Light Snow and Sleet / Windy', 'Freezing Rain',\n",
       "       'Blowing Snow / Windy', 'Freezing Drizzle', 'Sleet', 'Light Sleet',\n",
       "       'Rain and Sleet', 'Heavy Sleet', 'Light Snow Grains',\n",
       "       'Partial Fog / Windy', 'Light Snow with Thunder',\n",
       "       'Widespread Dust / Windy', 'Sand / Dust Whirlwinds / Windy',\n",
       "       'Tornado', 'Snow and Thunder', 'Snow and Sleet / Windy',\n",
       "       'Heavy Snow with Thunder', 'Thunder / Wintry Mix / Windy',\n",
       "       'Light Snow Showers', 'Heavy Blowing Snow', 'Light Hail',\n",
       "       'Heavy Smoke', 'Heavy Thunderstorms with Small Hail',\n",
       "       'Light Thunderstorm', 'Heavy Freezing Drizzle',\n",
       "       'Light Blowing Snow', 'Thunderstorms and Snow',\n",
       "       'Freezing Rain / Windy', 'Dust Whirls',\n",
       "       'Sand / Dust Whirls Nearby', 'Heavy Rain Shower',\n",
       "       'Thunder and Hail', 'Drifting Snow', 'Thunder and Hail / Windy'],\n",
       "      dtype=object)"
      ]
     },
     "execution_count": 37,
     "metadata": {},
     "output_type": "execute_result"
    }
   ],
   "source": [
    "df['Weather_Condition'].unique()"
   ]
  },
  {
   "cell_type": "code",
   "execution_count": 38,
   "id": "bda2ba0e-493f-4a8d-8472-4d7f9ec28202",
   "metadata": {},
   "outputs": [],
   "source": [
    "import numpy as np\n",
    "df['Weather_Condition_Value'] = np.where(df.Weather_Condition.str.startswith(\"Light Rain\")|df.Weather_Condition.str.startswith(\"Light Drizzle\"), \"0.1\",\n",
    "                   np.where(df.Weather_Condition.str.startswith(\"Rain\"), \"0.2\",\n",
    "                   np.where(df.Weather_Condition.str.startswith(\"Heavy Rain\"), \"1.2\", \"\")))"
   ]
  },
  {
   "cell_type": "markdown",
   "id": "5936a710-80c1-490e-9ffe-6a37c1398470",
   "metadata": {},
   "source": [
    "https://www.baranidesign.com/faq-articles/2020/1/19/rain-rate-intensity-classification"
   ]
  },
  {
   "cell_type": "code",
   "execution_count": 39,
   "id": "c2aa8536-17b2-4afd-9fab-a44bbc5fd008",
   "metadata": {},
   "outputs": [
    {
     "data": {
      "text/html": [
       "<div>\n",
       "<style scoped>\n",
       "    .dataframe tbody tr th:only-of-type {\n",
       "        vertical-align: middle;\n",
       "    }\n",
       "\n",
       "    .dataframe tbody tr th {\n",
       "        vertical-align: top;\n",
       "    }\n",
       "\n",
       "    .dataframe thead th {\n",
       "        text-align: right;\n",
       "    }\n",
       "</style>\n",
       "<table border=\"1\" class=\"dataframe\">\n",
       "  <thead>\n",
       "    <tr style=\"text-align: right;\">\n",
       "      <th></th>\n",
       "      <th>Precipitation_in</th>\n",
       "      <th>Weather_Condition</th>\n",
       "      <th>Weather_Condition_Value</th>\n",
       "    </tr>\n",
       "  </thead>\n",
       "  <tbody>\n",
       "    <tr>\n",
       "      <th>0</th>\n",
       "      <td>0.02</td>\n",
       "      <td>Light Rain</td>\n",
       "      <td>0.1</td>\n",
       "    </tr>\n",
       "    <tr>\n",
       "      <th>1</th>\n",
       "      <td>0.0</td>\n",
       "      <td>Light Rain</td>\n",
       "      <td>0.1</td>\n",
       "    </tr>\n",
       "    <tr>\n",
       "      <th>2</th>\n",
       "      <td>d</td>\n",
       "      <td>Overcast</td>\n",
       "      <td></td>\n",
       "    </tr>\n",
       "    <tr>\n",
       "      <th>3</th>\n",
       "      <td>d</td>\n",
       "      <td>Mostly Cloudy</td>\n",
       "      <td></td>\n",
       "    </tr>\n",
       "    <tr>\n",
       "      <th>4</th>\n",
       "      <td>d</td>\n",
       "      <td>Mostly Cloudy</td>\n",
       "      <td></td>\n",
       "    </tr>\n",
       "  </tbody>\n",
       "</table>\n",
       "</div>"
      ],
      "text/plain": [
       "  Precipitation_in Weather_Condition Weather_Condition_Value\n",
       "0             0.02        Light Rain                     0.1\n",
       "1              0.0        Light Rain                     0.1\n",
       "2                d          Overcast                        \n",
       "3                d     Mostly Cloudy                        \n",
       "4                d     Mostly Cloudy                        "
      ]
     },
     "execution_count": 39,
     "metadata": {},
     "output_type": "execute_result"
    }
   ],
   "source": [
    "test = df\n",
    "test['Precipitation_in'] = test['Precipitation_in'].fillna('d')\n",
    "test[['Precipitation_in','Weather_Condition','Weather_Condition_Value']].head(5)"
   ]
  },
  {
   "cell_type": "code",
   "execution_count": 40,
   "id": "32c7c5d9-3f99-4edf-b74e-b85c4dadf398",
   "metadata": {},
   "outputs": [
    {
     "data": {
      "text/html": [
       "<div>\n",
       "<style scoped>\n",
       "    .dataframe tbody tr th:only-of-type {\n",
       "        vertical-align: middle;\n",
       "    }\n",
       "\n",
       "    .dataframe tbody tr th {\n",
       "        vertical-align: top;\n",
       "    }\n",
       "\n",
       "    .dataframe thead th {\n",
       "        text-align: right;\n",
       "    }\n",
       "</style>\n",
       "<table border=\"1\" class=\"dataframe\">\n",
       "  <thead>\n",
       "    <tr style=\"text-align: right;\">\n",
       "      <th></th>\n",
       "      <th>Precipitation_in</th>\n",
       "      <th>Weather_Condition</th>\n",
       "      <th>Weather_Condition_Value</th>\n",
       "    </tr>\n",
       "  </thead>\n",
       "  <tbody>\n",
       "    <tr>\n",
       "      <th>0</th>\n",
       "      <td>0.02</td>\n",
       "      <td>Light Rain</td>\n",
       "      <td>0.1</td>\n",
       "    </tr>\n",
       "    <tr>\n",
       "      <th>1</th>\n",
       "      <td>0.0</td>\n",
       "      <td>Light Rain</td>\n",
       "      <td>0.1</td>\n",
       "    </tr>\n",
       "    <tr>\n",
       "      <th>2</th>\n",
       "      <td></td>\n",
       "      <td>Overcast</td>\n",
       "      <td></td>\n",
       "    </tr>\n",
       "    <tr>\n",
       "      <th>3</th>\n",
       "      <td></td>\n",
       "      <td>Mostly Cloudy</td>\n",
       "      <td></td>\n",
       "    </tr>\n",
       "    <tr>\n",
       "      <th>4</th>\n",
       "      <td></td>\n",
       "      <td>Mostly Cloudy</td>\n",
       "      <td></td>\n",
       "    </tr>\n",
       "  </tbody>\n",
       "</table>\n",
       "</div>"
      ],
      "text/plain": [
       "  Precipitation_in Weather_Condition Weather_Condition_Value\n",
       "0             0.02        Light Rain                     0.1\n",
       "1              0.0        Light Rain                     0.1\n",
       "2                           Overcast                        \n",
       "3                      Mostly Cloudy                        \n",
       "4                      Mostly Cloudy                        "
      ]
     },
     "execution_count": 40,
     "metadata": {},
     "output_type": "execute_result"
    }
   ],
   "source": [
    "test['Precipitation_in'] = np.where(test['Precipitation_in'] == 'd', test['Weather_Condition_Value'], test['Precipitation_in'])\n",
    "test[['Precipitation_in','Weather_Condition','Weather_Condition_Value']].head(5)"
   ]
  },
  {
   "cell_type": "code",
   "execution_count": 41,
   "id": "ffad6272-88de-456a-a5db-dbd16df009d7",
   "metadata": {},
   "outputs": [
    {
     "data": {
      "text/html": [
       "<div>\n",
       "<style scoped>\n",
       "    .dataframe tbody tr th:only-of-type {\n",
       "        vertical-align: middle;\n",
       "    }\n",
       "\n",
       "    .dataframe tbody tr th {\n",
       "        vertical-align: top;\n",
       "    }\n",
       "\n",
       "    .dataframe thead th {\n",
       "        text-align: right;\n",
       "    }\n",
       "</style>\n",
       "<table border=\"1\" class=\"dataframe\">\n",
       "  <thead>\n",
       "    <tr style=\"text-align: right;\">\n",
       "      <th></th>\n",
       "      <th>Precipitation_in</th>\n",
       "      <th>Weather_Condition</th>\n",
       "      <th>Weather_Condition_Value</th>\n",
       "    </tr>\n",
       "  </thead>\n",
       "  <tbody>\n",
       "    <tr>\n",
       "      <th>0</th>\n",
       "      <td>0.02</td>\n",
       "      <td>Light Rain</td>\n",
       "      <td>0.1</td>\n",
       "    </tr>\n",
       "    <tr>\n",
       "      <th>1</th>\n",
       "      <td>0.0</td>\n",
       "      <td>Light Rain</td>\n",
       "      <td>0.1</td>\n",
       "    </tr>\n",
       "    <tr>\n",
       "      <th>2</th>\n",
       "      <td>NaN</td>\n",
       "      <td>Overcast</td>\n",
       "      <td></td>\n",
       "    </tr>\n",
       "    <tr>\n",
       "      <th>3</th>\n",
       "      <td>NaN</td>\n",
       "      <td>Mostly Cloudy</td>\n",
       "      <td></td>\n",
       "    </tr>\n",
       "    <tr>\n",
       "      <th>4</th>\n",
       "      <td>NaN</td>\n",
       "      <td>Mostly Cloudy</td>\n",
       "      <td></td>\n",
       "    </tr>\n",
       "  </tbody>\n",
       "</table>\n",
       "</div>"
      ],
      "text/plain": [
       "  Precipitation_in Weather_Condition Weather_Condition_Value\n",
       "0             0.02        Light Rain                     0.1\n",
       "1              0.0        Light Rain                     0.1\n",
       "2              NaN          Overcast                        \n",
       "3              NaN     Mostly Cloudy                        \n",
       "4              NaN     Mostly Cloudy                        "
      ]
     },
     "execution_count": 41,
     "metadata": {},
     "output_type": "execute_result"
    }
   ],
   "source": [
    "test['Precipitation_in'] = np.where(test['Precipitation_in'] == '', np.nan, test['Precipitation_in'])\n",
    "test[['Precipitation_in','Weather_Condition','Weather_Condition_Value']].head(5)"
   ]
  },
  {
   "cell_type": "code",
   "execution_count": 42,
   "id": "da5aa861-6dc0-4799-9d02-99ad0add4c74",
   "metadata": {},
   "outputs": [
    {
     "data": {
      "text/plain": [
       "55.11881346202503"
      ]
     },
     "execution_count": 42,
     "metadata": {},
     "output_type": "execute_result"
    }
   ],
   "source": [
    "test.Precipitation_in.isna().sum() / len(test) * 100"
   ]
  },
  {
   "cell_type": "code",
   "execution_count": 43,
   "id": "eb2f6ca3-b0f6-42b8-b762-9ee3aaf301eb",
   "metadata": {},
   "outputs": [
    {
     "data": {
      "text/plain": [
       "Precipitation_in    float64\n",
       "Severity              int64\n",
       "dtype: object"
      ]
     },
     "execution_count": 43,
     "metadata": {},
     "output_type": "execute_result"
    }
   ],
   "source": [
    "test[\"Precipitation_in\"] = df[\"Precipitation_in\"].astype(float)\n",
    "test[['Precipitation_in', 'Severity']].dtypes"
   ]
  },
  {
   "cell_type": "code",
   "execution_count": 44,
   "id": "c539c15e-2fb9-400c-95cc-5abd0ca82dd1",
   "metadata": {},
   "outputs": [
    {
     "data": {
      "text/plain": [
       "Sunrise_Sunset           float64\n",
       "Civil_Twilight           float64\n",
       "Nautical_Twilight        float64\n",
       "Astronomical_Twilight    float64\n",
       "dtype: object"
      ]
     },
     "execution_count": 44,
     "metadata": {},
     "output_type": "execute_result"
    }
   ],
   "source": [
    "test[['Sunrise_Sunset', 'Civil_Twilight', 'Nautical_Twilight', 'Astronomical_Twilight']] = test[['Sunrise_Sunset', 'Civil_Twilight', 'Nautical_Twilight', 'Astronomical_Twilight']].astype(float)\n",
    "test[['Sunrise_Sunset', 'Civil_Twilight', 'Nautical_Twilight', 'Astronomical_Twilight']].dtypes"
   ]
  },
  {
   "cell_type": "code",
   "execution_count": 45,
   "id": "a7ae86bb-768f-498f-9345-e7de8c66ea37",
   "metadata": {},
   "outputs": [
    {
     "data": {
      "text/html": [
       "<div>\n",
       "<style scoped>\n",
       "    .dataframe tbody tr th:only-of-type {\n",
       "        vertical-align: middle;\n",
       "    }\n",
       "\n",
       "    .dataframe tbody tr th {\n",
       "        vertical-align: top;\n",
       "    }\n",
       "\n",
       "    .dataframe thead th {\n",
       "        text-align: right;\n",
       "    }\n",
       "</style>\n",
       "<table border=\"1\" class=\"dataframe\">\n",
       "  <thead>\n",
       "    <tr style=\"text-align: right;\">\n",
       "      <th></th>\n",
       "      <th>ID</th>\n",
       "      <th>Source</th>\n",
       "      <th>TMC</th>\n",
       "      <th>Severity</th>\n",
       "      <th>Start_Time</th>\n",
       "      <th>End_Time</th>\n",
       "      <th>Start_Lat</th>\n",
       "      <th>Start_Lng</th>\n",
       "      <th>End_Lat</th>\n",
       "      <th>End_Lng</th>\n",
       "      <th>...</th>\n",
       "      <th>Station</th>\n",
       "      <th>Stop</th>\n",
       "      <th>Traffic_Calming</th>\n",
       "      <th>Traffic_Signal</th>\n",
       "      <th>Turning_Loop</th>\n",
       "      <th>Sunrise_Sunset</th>\n",
       "      <th>Civil_Twilight</th>\n",
       "      <th>Nautical_Twilight</th>\n",
       "      <th>Astronomical_Twilight</th>\n",
       "      <th>Weather_Condition_Value</th>\n",
       "    </tr>\n",
       "  </thead>\n",
       "  <tbody>\n",
       "    <tr>\n",
       "      <th>0</th>\n",
       "      <td>A-1</td>\n",
       "      <td>MapQuest</td>\n",
       "      <td>201.0</td>\n",
       "      <td>3</td>\n",
       "      <td>2016-02-08 05:46:00</td>\n",
       "      <td>2016-02-08 11:00:00</td>\n",
       "      <td>39.865147</td>\n",
       "      <td>-84.058723</td>\n",
       "      <td>NaN</td>\n",
       "      <td>NaN</td>\n",
       "      <td>...</td>\n",
       "      <td>False</td>\n",
       "      <td>False</td>\n",
       "      <td>False</td>\n",
       "      <td>False</td>\n",
       "      <td>False</td>\n",
       "      <td>0.0</td>\n",
       "      <td>0.0</td>\n",
       "      <td>0.0</td>\n",
       "      <td>0.0</td>\n",
       "      <td>0.1</td>\n",
       "    </tr>\n",
       "    <tr>\n",
       "      <th>1</th>\n",
       "      <td>A-2</td>\n",
       "      <td>MapQuest</td>\n",
       "      <td>201.0</td>\n",
       "      <td>2</td>\n",
       "      <td>2016-02-08 06:07:59</td>\n",
       "      <td>2016-02-08 06:37:59</td>\n",
       "      <td>39.928059</td>\n",
       "      <td>-82.831184</td>\n",
       "      <td>NaN</td>\n",
       "      <td>NaN</td>\n",
       "      <td>...</td>\n",
       "      <td>False</td>\n",
       "      <td>False</td>\n",
       "      <td>False</td>\n",
       "      <td>False</td>\n",
       "      <td>False</td>\n",
       "      <td>0.0</td>\n",
       "      <td>0.0</td>\n",
       "      <td>0.0</td>\n",
       "      <td>1.0</td>\n",
       "      <td>0.1</td>\n",
       "    </tr>\n",
       "    <tr>\n",
       "      <th>2</th>\n",
       "      <td>A-3</td>\n",
       "      <td>MapQuest</td>\n",
       "      <td>201.0</td>\n",
       "      <td>2</td>\n",
       "      <td>2016-02-08 06:49:27</td>\n",
       "      <td>2016-02-08 07:19:27</td>\n",
       "      <td>39.063148</td>\n",
       "      <td>-84.032608</td>\n",
       "      <td>NaN</td>\n",
       "      <td>NaN</td>\n",
       "      <td>...</td>\n",
       "      <td>False</td>\n",
       "      <td>False</td>\n",
       "      <td>False</td>\n",
       "      <td>True</td>\n",
       "      <td>False</td>\n",
       "      <td>0.0</td>\n",
       "      <td>0.0</td>\n",
       "      <td>1.0</td>\n",
       "      <td>1.0</td>\n",
       "      <td></td>\n",
       "    </tr>\n",
       "    <tr>\n",
       "      <th>3</th>\n",
       "      <td>A-4</td>\n",
       "      <td>MapQuest</td>\n",
       "      <td>201.0</td>\n",
       "      <td>3</td>\n",
       "      <td>2016-02-08 07:23:34</td>\n",
       "      <td>2016-02-08 07:53:34</td>\n",
       "      <td>39.747753</td>\n",
       "      <td>-84.205582</td>\n",
       "      <td>NaN</td>\n",
       "      <td>NaN</td>\n",
       "      <td>...</td>\n",
       "      <td>False</td>\n",
       "      <td>False</td>\n",
       "      <td>False</td>\n",
       "      <td>False</td>\n",
       "      <td>False</td>\n",
       "      <td>0.0</td>\n",
       "      <td>1.0</td>\n",
       "      <td>1.0</td>\n",
       "      <td>1.0</td>\n",
       "      <td></td>\n",
       "    </tr>\n",
       "    <tr>\n",
       "      <th>4</th>\n",
       "      <td>A-5</td>\n",
       "      <td>MapQuest</td>\n",
       "      <td>201.0</td>\n",
       "      <td>2</td>\n",
       "      <td>2016-02-08 07:39:07</td>\n",
       "      <td>2016-02-08 08:09:07</td>\n",
       "      <td>39.627781</td>\n",
       "      <td>-84.188354</td>\n",
       "      <td>NaN</td>\n",
       "      <td>NaN</td>\n",
       "      <td>...</td>\n",
       "      <td>False</td>\n",
       "      <td>False</td>\n",
       "      <td>False</td>\n",
       "      <td>True</td>\n",
       "      <td>False</td>\n",
       "      <td>1.0</td>\n",
       "      <td>1.0</td>\n",
       "      <td>1.0</td>\n",
       "      <td>1.0</td>\n",
       "      <td></td>\n",
       "    </tr>\n",
       "  </tbody>\n",
       "</table>\n",
       "<p>5 rows × 50 columns</p>\n",
       "</div>"
      ],
      "text/plain": [
       "    ID    Source    TMC  Severity           Start_Time             End_Time  \\\n",
       "0  A-1  MapQuest  201.0         3  2016-02-08 05:46:00  2016-02-08 11:00:00   \n",
       "1  A-2  MapQuest  201.0         2  2016-02-08 06:07:59  2016-02-08 06:37:59   \n",
       "2  A-3  MapQuest  201.0         2  2016-02-08 06:49:27  2016-02-08 07:19:27   \n",
       "3  A-4  MapQuest  201.0         3  2016-02-08 07:23:34  2016-02-08 07:53:34   \n",
       "4  A-5  MapQuest  201.0         2  2016-02-08 07:39:07  2016-02-08 08:09:07   \n",
       "\n",
       "   Start_Lat  Start_Lng  End_Lat  End_Lng  ...  Station   Stop  \\\n",
       "0  39.865147 -84.058723      NaN      NaN  ...    False  False   \n",
       "1  39.928059 -82.831184      NaN      NaN  ...    False  False   \n",
       "2  39.063148 -84.032608      NaN      NaN  ...    False  False   \n",
       "3  39.747753 -84.205582      NaN      NaN  ...    False  False   \n",
       "4  39.627781 -84.188354      NaN      NaN  ...    False  False   \n",
       "\n",
       "   Traffic_Calming Traffic_Signal Turning_Loop Sunrise_Sunset Civil_Twilight  \\\n",
       "0            False          False        False            0.0            0.0   \n",
       "1            False          False        False            0.0            0.0   \n",
       "2            False           True        False            0.0            0.0   \n",
       "3            False          False        False            0.0            1.0   \n",
       "4            False           True        False            1.0            1.0   \n",
       "\n",
       "  Nautical_Twilight Astronomical_Twilight Weather_Condition_Value  \n",
       "0               0.0                   0.0                     0.1  \n",
       "1               0.0                   1.0                     0.1  \n",
       "2               1.0                   1.0                          \n",
       "3               1.0                   1.0                          \n",
       "4               1.0                   1.0                          \n",
       "\n",
       "[5 rows x 50 columns]"
      ]
     },
     "execution_count": 45,
     "metadata": {},
     "output_type": "execute_result"
    }
   ],
   "source": [
    "df.head()"
   ]
  },
  {
   "cell_type": "code",
   "execution_count": 46,
   "id": "38e78c34-adcc-4b26-8ae3-f32e089edcb1",
   "metadata": {},
   "outputs": [
    {
     "data": {
      "image/png": "[encoded data removed]",
      "text/plain": [
       "<Figure size 640x480 with 2 Axes>"
      ]
     },
     "metadata": {},
     "output_type": "display_data"
    }
   ],
   "source": [
    "import seaborn as sb\n",
    "import matplotlib.pyplot as plt\n",
    "\n",
    "corr_matrix = test[['Severity', 'Temperature_f', 'Visibility_mi', 'Wind_Speed_mph', 'Precipitation_in', 'Sunrise_Sunset', 'Civil_Twilight', 'Nautical_Twilight', 'Astronomical_Twilight']].corr()\n",
    "corr = np.triu(corr_matrix)\n",
    "sb.set(font_scale=0.8)\n",
    "sb.heatmap(corr_matrix, annot=True, mask=corr)\n",
    "plt.show()"
   ]
  },
  {
   "cell_type": "code",
   "execution_count": 257,
   "id": "342d8c89-a404-4b1a-a9eb-18123618a682",
   "metadata": {},
   "outputs": [
    {
     "data": {
      "text/plain": [
       "Severity\n",
       "1    0.008303\n",
       "2    0.675432\n",
       "3    0.284298\n",
       "4    0.031967\n",
       "Name: Severity, dtype: float64"
      ]
     },
     "execution_count": 257,
     "metadata": {},
     "output_type": "execute_result"
    }
   ],
   "source": [
    "test2 = test.groupby('Severity')['Severity'].count()/len(test)\n",
    "test2"
   ]
  },
  {
   "cell_type": "markdown",
   "id": "950fdffc-89c1-44c1-aca1-8c10c13da9b1",
   "metadata": {},
   "source": [
    "Enkele POI plotten"
   ]
  },
  {
   "cell_type": "code",
   "execution_count": 258,
   "id": "401bdd4c-1166-4ec0-b24c-7c8767d572a6",
   "metadata": {},
   "outputs": [
    {
     "data": {
      "text/plain": [
       "<AxesSubplot:xlabel='Severity', ylabel='Traffic_Signal'>"
      ]
     },
     "execution_count": 258,
     "metadata": {},
     "output_type": "execute_result"
    },
    {
     "data": {
      "image/png": "[encoded data removed]",
      "text/plain": [
       "<Figure size 640x480 with 1 Axes>"
      ]
     },
     "metadata": {},
     "output_type": "display_data"
    }
   ],
   "source": [
    "plotdf = test[test['Traffic_Signal']].groupby('Severity', as_index=False)['Traffic_Signal'].count()\n",
    "plotdf['Traffic_Signal'] = plotdf['Traffic_Signal']/len(test)*100\n",
    "sn.barplot(x='Severity', y='Traffic_Signal', data=plotdf, ci=False)"
   ]
  },
  {
   "cell_type": "markdown",
   "id": "198ae513-df4c-4842-af87-d17470f8b9fc",
   "metadata": {},
   "source": [
    "Totaal plotten"
   ]
  },
  {
   "cell_type": "code",
   "execution_count": 259,
   "id": "d0278be8-83d7-4544-874b-afd6a7287a31",
   "metadata": {},
   "outputs": [
    {
     "data": {
      "text/plain": [
       "17.74874723112963"
      ]
     },
     "execution_count": 259,
     "metadata": {},
     "output_type": "execute_result"
    }
   ],
   "source": [
    "newdf = test\n",
    "newdf['Traffic_Signal'].sum()/len(df)*100"
   ]
  },
  {
   "cell_type": "code",
   "execution_count": 260,
   "id": "3bde4842-6b87-440e-a185-85ba85b89794",
   "metadata": {},
   "outputs": [
    {
     "data": {
      "image/png": "[encoded data removed]",
      "text/plain": [
       "<Figure size 640x480 with 1 Axes>"
      ]
     },
     "metadata": {},
     "output_type": "display_data"
    }
   ],
   "source": [
    "fig = plt.figure()\n",
    "ax = fig.add_axes([0,0,1,1])\n",
    "POI = ['Amenity', 'Bump', 'Crossing', 'Give_Way', 'Junction', 'Railway', 'Roundabout', 'Station', 'Stop', 'Traffic_Calming', 'Traffic_Signal', 'Turning_Loop']\n",
    "Occurance = [newdf['Amenity'].sum()/len(df)*100,newdf['Bump'].sum()/len(df)*100,newdf['Crossing'].sum()/len(df)*100,newdf['Give_Way'].sum()/len(df)*100,newdf['Junction'].sum()/len(df)*100,newdf['Railway'].sum()/len(df)*100,newdf['Roundabout'].sum()/len(df)*100,newdf['Station'].sum()/len(df)*100,newdf['Stop'].sum()/len(df)*100,newdf['Traffic_Calming'].sum()/len(df)*100,newdf['Traffic_Signal'].sum()/len(df)*100,newdf['Turning_Loop'].sum()/len(df)*100]\n",
    "ax.bar(POI,Occurance)\n",
    "plt.xticks(rotation=30, ha='right')\n",
    "ax.set_title(\"Accident at PoI\")\n",
    "ax.set_xlabel(\"Point of Interest\")\n",
    "ax.set_ylabel(\"Occurences (%)\")\n",
    "plt.show()"
   ]
  },
  {
   "cell_type": "code",
   "execution_count": 250,
   "id": "8d6cadf2-c70d-4209-9cc5-026bc9f3aab9",
   "metadata": {},
   "outputs": [
    {
     "data": {
      "text/html": [
       "<div>\n",
       "<style scoped>\n",
       "    .dataframe tbody tr th:only-of-type {\n",
       "        vertical-align: middle;\n",
       "    }\n",
       "\n",
       "    .dataframe tbody tr th {\n",
       "        vertical-align: top;\n",
       "    }\n",
       "\n",
       "    .dataframe thead th {\n",
       "        text-align: right;\n",
       "    }\n",
       "</style>\n",
       "<table border=\"1\" class=\"dataframe\">\n",
       "  <thead>\n",
       "    <tr style=\"text-align: right;\">\n",
       "      <th></th>\n",
       "      <th>Severity</th>\n",
       "      <th>Junction</th>\n",
       "      <th>Sev_Junction</th>\n",
       "    </tr>\n",
       "  </thead>\n",
       "  <tbody>\n",
       "    <tr>\n",
       "      <th>0</th>\n",
       "      <td>3</td>\n",
       "      <td>False</td>\n",
       "      <td>0</td>\n",
       "    </tr>\n",
       "    <tr>\n",
       "      <th>1</th>\n",
       "      <td>2</td>\n",
       "      <td>False</td>\n",
       "      <td>0</td>\n",
       "    </tr>\n",
       "    <tr>\n",
       "      <th>2</th>\n",
       "      <td>2</td>\n",
       "      <td>False</td>\n",
       "      <td>0</td>\n",
       "    </tr>\n",
       "    <tr>\n",
       "      <th>3</th>\n",
       "      <td>3</td>\n",
       "      <td>False</td>\n",
       "      <td>0</td>\n",
       "    </tr>\n",
       "    <tr>\n",
       "      <th>4</th>\n",
       "      <td>2</td>\n",
       "      <td>False</td>\n",
       "      <td>0</td>\n",
       "    </tr>\n",
       "  </tbody>\n",
       "</table>\n",
       "</div>"
      ],
      "text/plain": [
       "   Severity  Junction  Sev_Junction\n",
       "0         3     False             0\n",
       "1         2     False             0\n",
       "2         2     False             0\n",
       "3         3     False             0\n",
       "4         2     False             0"
      ]
     },
     "execution_count": 250,
     "metadata": {},
     "output_type": "execute_result"
    }
   ],
   "source": [
    "test3 = test\n",
    "test3['Sev_Junction'] = np.where(test3['Junction'] == True, test3['Severity'], test3['Junction'])\n",
    "test3[['Severity', 'Junction', 'Sev_Junction']].head()"
   ]
  },
  {
   "cell_type": "code",
   "execution_count": 251,
   "id": "27e5a658-e275-490b-bbb2-721f2a06e151",
   "metadata": {},
   "outputs": [
    {
     "data": {
      "text/plain": [
       "0    False\n",
       "1    False\n",
       "2    False\n",
       "3    False\n",
       "4    False\n",
       "Name: Junction, dtype: bool"
      ]
     },
     "execution_count": 251,
     "metadata": {},
     "output_type": "execute_result"
    }
   ],
   "source": [
    "test3.Junction.head(5)"
   ]
  },
  {
   "cell_type": "code",
   "execution_count": 252,
   "id": "06a17e33-b932-4bd1-8242-4ca5bfae1af2",
   "metadata": {},
   "outputs": [
    {
     "data": {
      "text/plain": [
       "11         True\n",
       "37         True\n",
       "43         True\n",
       "84         True\n",
       "87         True\n",
       "           ... \n",
       "3513601    True\n",
       "3513602    True\n",
       "3513605    True\n",
       "3513609    True\n",
       "3513614    True\n",
       "Name: Junction, Length: 284449, dtype: bool"
      ]
     },
     "execution_count": 252,
     "metadata": {},
     "output_type": "execute_result"
    }
   ],
   "source": [
    "test4 = test\n",
    "test4 = test4.loc[newdf['Junction'] == 1]\n",
    "test4['Junction']\n",
    "#newdf = newdf[['Severity', 'Junction']].head()"
   ]
  },
  {
   "cell_type": "code",
   "execution_count": 253,
   "id": "8e82db90-b021-47b4-bf4b-44ffa9cf15fd",
   "metadata": {},
   "outputs": [
    {
     "data": {
      "text/html": [
       "<div>\n",
       "<style scoped>\n",
       "    .dataframe tbody tr th:only-of-type {\n",
       "        vertical-align: middle;\n",
       "    }\n",
       "\n",
       "    .dataframe tbody tr th {\n",
       "        vertical-align: top;\n",
       "    }\n",
       "\n",
       "    .dataframe thead th {\n",
       "        text-align: right;\n",
       "    }\n",
       "</style>\n",
       "<table border=\"1\" class=\"dataframe\">\n",
       "  <thead>\n",
       "    <tr style=\"text-align: right;\">\n",
       "      <th></th>\n",
       "      <th>Severity</th>\n",
       "      <th>Junction</th>\n",
       "    </tr>\n",
       "  </thead>\n",
       "  <tbody>\n",
       "    <tr>\n",
       "      <th>0</th>\n",
       "      <td>1</td>\n",
       "      <td>1.0</td>\n",
       "    </tr>\n",
       "    <tr>\n",
       "      <th>1</th>\n",
       "      <td>2</td>\n",
       "      <td>1.0</td>\n",
       "    </tr>\n",
       "    <tr>\n",
       "      <th>2</th>\n",
       "      <td>3</td>\n",
       "      <td>1.0</td>\n",
       "    </tr>\n",
       "    <tr>\n",
       "      <th>3</th>\n",
       "      <td>4</td>\n",
       "      <td>1.0</td>\n",
       "    </tr>\n",
       "  </tbody>\n",
       "</table>\n",
       "</div>"
      ],
      "text/plain": [
       "   Severity  Junction\n",
       "0         1       1.0\n",
       "1         2       1.0\n",
       "2         3       1.0\n",
       "3         4       1.0"
      ]
     },
     "execution_count": 253,
     "metadata": {},
     "output_type": "execute_result"
    }
   ],
   "source": [
    "test4.groupby('Severity', as_index=False)['Junction'].mean()"
   ]
  },
  {
   "cell_type": "markdown",
   "id": "8603dc60-e3dc-4825-a11b-4efaad75bf78",
   "metadata": {},
   "source": [
    "Aantal ongelukken per locatie"
   ]
  },
  {
   "cell_type": "code",
   "execution_count": 6,
   "id": "bf11a693-968b-4283-96d0-8b5fff515771",
   "metadata": {},
   "outputs": [],
   "source": [
    "locationdf = df"
   ]
  },
  {
   "cell_type": "code",
   "execution_count": 7,
   "id": "0cb1a753-70b3-40e1-9569-9ddb4077f4b6",
   "metadata": {},
   "outputs": [
    {
     "data": {
      "text/plain": [
       "array(['US/Eastern', 'US/Pacific', nan, 'US/Central', 'US/Mountain'],\n",
       "      dtype=object)"
      ]
     },
     "execution_count": 7,
     "metadata": {},
     "output_type": "execute_result"
    }
   ],
   "source": [
    "locationdf.Timezone.unique()"
   ]
  },
  {
   "attachments": {
    "f3a8b1b8-8377-442f-9c51-ae2ec5330b3d.png": {
     "image/png": "[encoded data removed]"
    }
   },
   "cell_type": "markdown",
   "id": "2320250f-205b-44a4-915c-b02f3a1481c4",
   "metadata": {},
   "source": [
    "![image.png](attachment:f3a8b1b8-8377-442f-9c51-ae2ec5330b3d.png)"
   ]
  },
  {
   "cell_type": "code",
   "execution_count": 8,
   "id": "1385727c-6d88-4655-8242-b68d7d9110a5",
   "metadata": {},
   "outputs": [
    {
     "data": {
      "text/plain": [
       "Timezone\n",
       "US/Central      837122\n",
       "US/Eastern     1484854\n",
       "US/Mountain     200902\n",
       "US/Pacific      986859\n",
       "Name: Timezone, dtype: int64"
      ]
     },
     "execution_count": 8,
     "metadata": {},
     "output_type": "execute_result"
    }
   ],
   "source": [
    "locationdf.groupby('Timezone')['Timezone'].count()"
   ]
  },
  {
   "cell_type": "code",
   "execution_count": 10,
   "id": "2c6b0bd8-1b92-4d3a-9bd5-d8d1a318fe5c",
   "metadata": {},
   "outputs": [
    {
     "data": {
      "text/html": [
       "<div>\n",
       "<style scoped>\n",
       "    .dataframe tbody tr th:only-of-type {\n",
       "        vertical-align: middle;\n",
       "    }\n",
       "\n",
       "    .dataframe tbody tr th {\n",
       "        vertical-align: top;\n",
       "    }\n",
       "\n",
       "    .dataframe thead th {\n",
       "        text-align: right;\n",
       "    }\n",
       "</style>\n",
       "<table border=\"1\" class=\"dataframe\">\n",
       "  <thead>\n",
       "    <tr style=\"text-align: right;\">\n",
       "      <th></th>\n",
       "      <th>ID</th>\n",
       "      <th>Source</th>\n",
       "      <th>TMC</th>\n",
       "      <th>Severity</th>\n",
       "      <th>Start_Time</th>\n",
       "      <th>End_Time</th>\n",
       "      <th>Start_Lat</th>\n",
       "      <th>Start_Lng</th>\n",
       "      <th>End_Lat</th>\n",
       "      <th>End_Lng</th>\n",
       "      <th>...</th>\n",
       "      <th>Roundabout</th>\n",
       "      <th>Station</th>\n",
       "      <th>Stop</th>\n",
       "      <th>Traffic_Calming</th>\n",
       "      <th>Traffic_Signal</th>\n",
       "      <th>Turning_Loop</th>\n",
       "      <th>Sunrise_Sunset</th>\n",
       "      <th>Civil_Twilight</th>\n",
       "      <th>Nautical_Twilight</th>\n",
       "      <th>Astronomical_Twilight</th>\n",
       "    </tr>\n",
       "  </thead>\n",
       "  <tbody>\n",
       "    <tr>\n",
       "      <th>0</th>\n",
       "      <td>A-1</td>\n",
       "      <td>MapQuest</td>\n",
       "      <td>201.0</td>\n",
       "      <td>3</td>\n",
       "      <td>2016-02-08 05:46:00</td>\n",
       "      <td>2016-02-08 11:00:00</td>\n",
       "      <td>39.865147</td>\n",
       "      <td>-84.058723</td>\n",
       "      <td>NaN</td>\n",
       "      <td>NaN</td>\n",
       "      <td>...</td>\n",
       "      <td>False</td>\n",
       "      <td>False</td>\n",
       "      <td>False</td>\n",
       "      <td>False</td>\n",
       "      <td>False</td>\n",
       "      <td>False</td>\n",
       "      <td>Night</td>\n",
       "      <td>Night</td>\n",
       "      <td>Night</td>\n",
       "      <td>Night</td>\n",
       "    </tr>\n",
       "    <tr>\n",
       "      <th>1</th>\n",
       "      <td>A-2</td>\n",
       "      <td>MapQuest</td>\n",
       "      <td>201.0</td>\n",
       "      <td>2</td>\n",
       "      <td>2016-02-08 06:07:59</td>\n",
       "      <td>2016-02-08 06:37:59</td>\n",
       "      <td>39.928059</td>\n",
       "      <td>-82.831184</td>\n",
       "      <td>NaN</td>\n",
       "      <td>NaN</td>\n",
       "      <td>...</td>\n",
       "      <td>False</td>\n",
       "      <td>False</td>\n",
       "      <td>False</td>\n",
       "      <td>False</td>\n",
       "      <td>False</td>\n",
       "      <td>False</td>\n",
       "      <td>Night</td>\n",
       "      <td>Night</td>\n",
       "      <td>Night</td>\n",
       "      <td>Day</td>\n",
       "    </tr>\n",
       "    <tr>\n",
       "      <th>2</th>\n",
       "      <td>A-3</td>\n",
       "      <td>MapQuest</td>\n",
       "      <td>201.0</td>\n",
       "      <td>2</td>\n",
       "      <td>2016-02-08 06:49:27</td>\n",
       "      <td>2016-02-08 07:19:27</td>\n",
       "      <td>39.063148</td>\n",
       "      <td>-84.032608</td>\n",
       "      <td>NaN</td>\n",
       "      <td>NaN</td>\n",
       "      <td>...</td>\n",
       "      <td>False</td>\n",
       "      <td>False</td>\n",
       "      <td>False</td>\n",
       "      <td>False</td>\n",
       "      <td>True</td>\n",
       "      <td>False</td>\n",
       "      <td>Night</td>\n",
       "      <td>Night</td>\n",
       "      <td>Day</td>\n",
       "      <td>Day</td>\n",
       "    </tr>\n",
       "    <tr>\n",
       "      <th>3</th>\n",
       "      <td>A-4</td>\n",
       "      <td>MapQuest</td>\n",
       "      <td>201.0</td>\n",
       "      <td>3</td>\n",
       "      <td>2016-02-08 07:23:34</td>\n",
       "      <td>2016-02-08 07:53:34</td>\n",
       "      <td>39.747753</td>\n",
       "      <td>-84.205582</td>\n",
       "      <td>NaN</td>\n",
       "      <td>NaN</td>\n",
       "      <td>...</td>\n",
       "      <td>False</td>\n",
       "      <td>False</td>\n",
       "      <td>False</td>\n",
       "      <td>False</td>\n",
       "      <td>False</td>\n",
       "      <td>False</td>\n",
       "      <td>Night</td>\n",
       "      <td>Day</td>\n",
       "      <td>Day</td>\n",
       "      <td>Day</td>\n",
       "    </tr>\n",
       "    <tr>\n",
       "      <th>4</th>\n",
       "      <td>A-5</td>\n",
       "      <td>MapQuest</td>\n",
       "      <td>201.0</td>\n",
       "      <td>2</td>\n",
       "      <td>2016-02-08 07:39:07</td>\n",
       "      <td>2016-02-08 08:09:07</td>\n",
       "      <td>39.627781</td>\n",
       "      <td>-84.188354</td>\n",
       "      <td>NaN</td>\n",
       "      <td>NaN</td>\n",
       "      <td>...</td>\n",
       "      <td>False</td>\n",
       "      <td>False</td>\n",
       "      <td>False</td>\n",
       "      <td>False</td>\n",
       "      <td>True</td>\n",
       "      <td>False</td>\n",
       "      <td>Day</td>\n",
       "      <td>Day</td>\n",
       "      <td>Day</td>\n",
       "      <td>Day</td>\n",
       "    </tr>\n",
       "  </tbody>\n",
       "</table>\n",
       "<p>5 rows × 49 columns</p>\n",
       "</div>"
      ],
      "text/plain": [
       "    ID    Source    TMC  Severity           Start_Time             End_Time  \\\n",
       "0  A-1  MapQuest  201.0         3  2016-02-08 05:46:00  2016-02-08 11:00:00   \n",
       "1  A-2  MapQuest  201.0         2  2016-02-08 06:07:59  2016-02-08 06:37:59   \n",
       "2  A-3  MapQuest  201.0         2  2016-02-08 06:49:27  2016-02-08 07:19:27   \n",
       "3  A-4  MapQuest  201.0         3  2016-02-08 07:23:34  2016-02-08 07:53:34   \n",
       "4  A-5  MapQuest  201.0         2  2016-02-08 07:39:07  2016-02-08 08:09:07   \n",
       "\n",
       "   Start_Lat  Start_Lng  End_Lat  End_Lng  ...  Roundabout Station   Stop  \\\n",
       "0  39.865147 -84.058723      NaN      NaN  ...       False   False  False   \n",
       "1  39.928059 -82.831184      NaN      NaN  ...       False   False  False   \n",
       "2  39.063148 -84.032608      NaN      NaN  ...       False   False  False   \n",
       "3  39.747753 -84.205582      NaN      NaN  ...       False   False  False   \n",
       "4  39.627781 -84.188354      NaN      NaN  ...       False   False  False   \n",
       "\n",
       "  Traffic_Calming Traffic_Signal Turning_Loop Sunrise_Sunset Civil_Twilight  \\\n",
       "0           False          False        False          Night          Night   \n",
       "1           False          False        False          Night          Night   \n",
       "2           False           True        False          Night          Night   \n",
       "3           False          False        False          Night            Day   \n",
       "4           False           True        False            Day            Day   \n",
       "\n",
       "  Nautical_Twilight Astronomical_Twilight  \n",
       "0             Night                 Night  \n",
       "1             Night                   Day  \n",
       "2               Day                   Day  \n",
       "3               Day                   Day  \n",
       "4               Day                   Day  \n",
       "\n",
       "[5 rows x 49 columns]"
      ]
     },
     "execution_count": 10,
     "metadata": {},
     "output_type": "execute_result"
    }
   ],
   "source": [
    "locationdf.head()"
   ]
  },
  {
   "cell_type": "code",
   "execution_count": 13,
   "id": "0f3f9122-06c7-4e62-9afd-9e1c8b4a097e",
   "metadata": {},
   "outputs": [
    {
     "name": "stdout",
     "output_type": "stream",
     "text": [
      "837122 1484854 200902 986859\n"
     ]
    }
   ],
   "source": [
    "amountCentral = locationdf['Timezone'].loc[locationdf['Timezone'] == 'US/Central'].count()\n",
    "amountEastern = locationdf['Timezone'].loc[locationdf['Timezone'] == 'US/Eastern'].count()\n",
    "amountMountain = locationdf['Timezone'].loc[locationdf['Timezone'] == 'US/Mountain'].count()\n",
    "amountPacific = locationdf['Timezone'].loc[locationdf['Timezone'] == 'US/Pacific'].count()\n",
    "print(amountCentral, amountEastern, amountMountain, amountPacific)"
   ]
  },
  {
   "cell_type": "code",
   "execution_count": 17,
   "id": "c57ed400-5692-4d71-a08a-69fb495274a8",
   "metadata": {},
   "outputs": [
    {
     "name": "stdout",
     "output_type": "stream",
     "text": [
      "23.825078259810333 42.25998451168696 5.7178115884571366 28.08669812332989\n"
     ]
    }
   ],
   "source": [
    "percentageCentral = locationdf['Timezone'].loc[locationdf['Timezone'] == 'US/Central'].count()/len(locationdf)*100\n",
    "percentageEastern = locationdf['Timezone'].loc[locationdf['Timezone'] == 'US/Eastern'].count()/len(locationdf)*100\n",
    "percentageMountain = locationdf['Timezone'].loc[locationdf['Timezone'] == 'US/Mountain'].count()/len(locationdf)*100\n",
    "percentagePacific = locationdf['Timezone'].loc[locationdf['Timezone'] == 'US/Pacific'].count()/len(locationdf)*100\n",
    "print(percentageCentral, percentageEastern, percentageMountain, percentagePacific)"
   ]
  },
  {
   "cell_type": "markdown",
   "id": "c341b176-4956-4d7c-9b20-fd3a6a646ccc",
   "metadata": {},
   "source": [
    "NaN?"
   ]
  },
  {
   "cell_type": "code",
   "execution_count": 19,
   "id": "a6459660-f06f-4b39-8a67-24f25695596a",
   "metadata": {},
   "outputs": [
    {
     "data": {
      "image/png": "[encoded data removed]",
      "text/plain": [
       "<Figure size 640x480 with 1 Axes>"
      ]
     },
     "metadata": {},
     "output_type": "display_data"
    }
   ],
   "source": [
    "fig = plt.figure()\n",
    "ax = fig.add_axes([0,0,1,1])\n",
    "POI = ['amountCentral', 'amountEastern', 'amountMountain', 'amountPacific']\n",
    "Occurance = [percentageCentral, percentageEastern, percentageMountain, percentagePacific]\n",
    "ax.bar(POI,Occurance)\n",
    "plt.xticks(rotation=30, ha='right')\n",
    "ax.set_title(\"% of accidents per Timezone\")\n",
    "ax.set_xlabel(\"Timezone\")\n",
    "ax.set_ylabel(\"% of accidents\")\n",
    "plt.show()"
   ]
  },
  {
   "cell_type": "code",
   "execution_count": null,
   "id": "3edc89bc-41c8-49dc-a02a-fce84f3ff590",
   "metadata": {},
   "outputs": [],
   "source": []
  }
 ],
 "metadata": {
  "kernelspec": {
   "display_name": "Python 3 (ipykernel)",
   "language": "python",
   "name": "python3"
  },
  "language_info": {
   "codemirror_mode": {
    "name": "ipython",
    "version": 3
   },
   "file_extension": ".py",
   "mimetype": "text/x-python",
   "name": "python",
   "nbconvert_exporter": "python",
   "pygments_lexer": "ipython3",
   "version": "3.9.13"
  }
 },
 "nbformat": 4,
 "nbformat_minor": 5
}
